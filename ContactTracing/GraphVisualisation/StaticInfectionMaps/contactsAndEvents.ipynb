{
 "cells": [
  {
   "cell_type": "code",
   "execution_count": 352,
   "metadata": {},
   "outputs": [],
   "source": [
    "import pandas as pd\n",
    "import numpy as np\n",
    "import re\n",
    "\n",
    "import seaborn as sns\n",
    "import altair as alt\n",
    "import matplotlib.pyplot as plt\n",
    "\n",
    "'''\n",
    "This is a notebook that works with the supplemental data provided.\n",
    "It contains some initial explorations and parts of these code are embedded\n",
    "within the ExtendedGraphReader notebook as functions.\n",
    "'''"
   ]
  },
  {
   "cell_type": "markdown",
   "metadata": {},
   "source": [
    "# Working with the Contacts data (input)\n",
    "\n",
    "This is the data that is provided as input to the simulation as the basis of contacts happening. \n",
    "\n",
    "`contacts.csv` which looks like:\n",
    "\n",
    "```\n",
    "    time,from,to,weight,label\n",
    "    0,14298,14357,100,Restaurant\n",
    "    0,425,6831,100,School\n",
    "    0,301,15510,100,ConstructionSite\n",
    "```\n",
    "\n",
    "with the following location labels:\n",
    "\n",
    "```\n",
    "    array(['Restaurant', 'School', 'ConstructionSite', 'Shop',\n",
    "           'LargeManyAdultFamily', 'Office', 'CovidHospital', 'LargeAdult',\n",
    "           'AdultPensioner', 'SmallAdult', 'SmallFamily', 'Hospital',\n",
    "           'LargeTwoAdultFamily', 'Nursery', 'DoubleOlder', 'CareHome',\n",
    "           'SingleParent', 'SingleAdult', 'SingleOlder'], dtype=object)\n",
    "```"
   ]
  },
  {
   "cell_type": "code",
   "execution_count": 3,
   "metadata": {},
   "outputs": [
    {
     "data": {
      "text/html": [
       "<div>\n",
       "<style scoped>\n",
       "    .dataframe tbody tr th:only-of-type {\n",
       "        vertical-align: middle;\n",
       "    }\n",
       "\n",
       "    .dataframe tbody tr th {\n",
       "        vertical-align: top;\n",
       "    }\n",
       "\n",
       "    .dataframe thead th {\n",
       "        text-align: right;\n",
       "    }\n",
       "</style>\n",
       "<table border=\"1\" class=\"dataframe\">\n",
       "  <thead>\n",
       "    <tr style=\"text-align: right;\">\n",
       "      <th></th>\n",
       "      <th>time</th>\n",
       "      <th>from</th>\n",
       "      <th>to</th>\n",
       "      <th>weight</th>\n",
       "      <th>label</th>\n",
       "    </tr>\n",
       "  </thead>\n",
       "  <tbody>\n",
       "    <tr>\n",
       "      <th>0</th>\n",
       "      <td>0</td>\n",
       "      <td>14298</td>\n",
       "      <td>14357</td>\n",
       "      <td>100</td>\n",
       "      <td>Restaurant</td>\n",
       "    </tr>\n",
       "    <tr>\n",
       "      <th>1</th>\n",
       "      <td>0</td>\n",
       "      <td>425</td>\n",
       "      <td>6831</td>\n",
       "      <td>100</td>\n",
       "      <td>School</td>\n",
       "    </tr>\n",
       "    <tr>\n",
       "      <th>2</th>\n",
       "      <td>0</td>\n",
       "      <td>301</td>\n",
       "      <td>15510</td>\n",
       "      <td>100</td>\n",
       "      <td>ConstructionSite</td>\n",
       "    </tr>\n",
       "    <tr>\n",
       "      <th>3</th>\n",
       "      <td>0</td>\n",
       "      <td>1779</td>\n",
       "      <td>18245</td>\n",
       "      <td>100</td>\n",
       "      <td>Shop</td>\n",
       "    </tr>\n",
       "    <tr>\n",
       "      <th>4</th>\n",
       "      <td>0</td>\n",
       "      <td>9585</td>\n",
       "      <td>18081</td>\n",
       "      <td>100</td>\n",
       "      <td>School</td>\n",
       "    </tr>\n",
       "  </tbody>\n",
       "</table>\n",
       "</div>"
      ],
      "text/plain": [
       "   time   from     to  weight             label\n",
       "0     0  14298  14357     100        Restaurant\n",
       "1     0    425   6831     100            School\n",
       "2     0    301  15510     100  ConstructionSite\n",
       "3     0   1779  18245     100              Shop\n",
       "4     0   9585  18081     100            School"
      ]
     },
     "execution_count": 3,
     "metadata": {},
     "output_type": "execute_result"
    }
   ],
   "source": [
    "inputContacts = pd.read_csv('../../data/2020_07_01_newSet/contacts_covid_model.csv')\n",
    "inputContacts.head()"
   ]
  },
  {
   "cell_type": "code",
   "execution_count": 7,
   "metadata": {},
   "outputs": [
    {
     "data": {
      "text/plain": [
       "array(['Restaurant', 'School', 'ConstructionSite', 'Shop',\n",
       "       'LargeManyAdultFamily', 'Office', 'CovidHospital', 'LargeAdult',\n",
       "       'AdultPensioner', 'SmallAdult', 'SmallFamily', 'Hospital',\n",
       "       'LargeTwoAdultFamily', 'Nursery', 'DoubleOlder', 'CareHome',\n",
       "       'SingleParent', 'SingleAdult', 'SingleOlder'], dtype=object)"
      ]
     },
     "execution_count": 7,
     "metadata": {},
     "output_type": "execute_result"
    }
   ],
   "source": [
    "# These are all the different locations\n",
    "pd.unique(inputContacts.label)"
   ]
  },
  {
   "cell_type": "code",
   "execution_count": 246,
   "metadata": {},
   "outputs": [
    {
     "data": {
      "image/png": "[encoded data removed]",
      "text/plain": [
       "<Figure size 360x360 with 1 Axes>"
      ]
     },
     "metadata": {},
     "output_type": "display_data"
    }
   ],
   "source": [
    "#alt.Chart(inputContacts).mark_bar().encode(\n",
    "#    alt.X(\"label\", bin=True),\n",
    "#    y='count()',\n",
    "#)\n",
    "sns.catplot(y=\"label\", kind=\"count\", data=inputContacts, color=\"#A9A9A9\");"
   ]
  },
  {
   "cell_type": "code",
   "execution_count": 18,
   "metadata": {},
   "outputs": [
    {
     "data": {
      "text/plain": [
       "89"
      ]
     },
     "execution_count": 18,
     "metadata": {},
     "output_type": "execute_result"
    }
   ],
   "source": [
    "# Maybe think about what can be done about the time element here\n",
    "inputContacts['time'].max()"
   ]
  },
  {
   "cell_type": "code",
   "execution_count": 277,
   "metadata": {},
   "outputs": [
    {
     "data": {
      "text/plain": [
       "'School'"
      ]
     },
     "execution_count": 277,
     "metadata": {},
     "output_type": "execute_result"
    }
   ],
   "source": [
    "\n",
    "# developing a function to return infection location\n",
    "\n",
    "def returnContactLocation(sourceNode, targetNode, timeOfInfection):\n",
    "    locationLabel = \"\"\n",
    "    isMatch = (inputContacts['from'] == sourceNode) & (inputContacts['to'] == targetNode) & (inputContacts['time'] == timeOfInfection)\n",
    "    if isMatch.any():\n",
    "        locationLabel = str(inputContacts[isMatch]['label'].values[0])\n",
    "    else:\n",
    "        print(\"Contact not found at this given time\")\n",
    "    return locationLabel\n",
    "\n",
    "#Testing the function\n",
    "sourceNode = 9585\n",
    "targetNode = 18081\n",
    "timeOfInfection = 7\n",
    "returnContactLocation(sourceNode, targetNode, timeOfInfection)\n"
   ]
  },
  {
   "cell_type": "markdown",
   "metadata": {},
   "source": [
    "## Exploring the events data\n",
    "\n",
    "`events.csv` which looks like this:\n",
    "\n",
    "```\n",
    "    time\",\"eventType\",\"id\",\"newStatus\",\"additionalInfo\"\n",
    "    0,\"InfectionEvent\",2048,\"EXPOSED\",\"This case was an initial infection\"\n",
    "    0,\"InfectionEvent\",4101,\"EXPOSED\",\"This case was an initial infection\"\n",
    "```\n",
    "\n",
    "where there are three different types of `events` : InfectionEvent,  VirusEvent, AlertEvent\n",
    "\n",
    "and the status changes follow the `compartment` structure that the underlying model follows. Here are the states, I guess these are what an epidemiologist will call compartments:\n",
    "```\n",
    "    array(['EXPOSED', 'ASYMPTOMATIC', 'PRESYMPTOMATIC', 'RECOVERED',\n",
    "           'SYMPTOMATIC', 'REQUESTED_TEST', 'SEVERELY_SYMPTOMATIC',\n",
    "           'AWAITING_RESULT', 'ALERTED', 'TESTED_POSITIVE', 'TESTED_NEGATIVE',\n",
    "           'NONE', 'DEAD'], dtype=object)\n",
    "```\n",
    "\n",
    "Note: Correction — some of these are compartments but some of them are about events, such as testing, etc."
   ]
  },
  {
   "cell_type": "code",
   "execution_count": 27,
   "metadata": {},
   "outputs": [
    {
     "data": {
      "text/html": [
       "<div>\n",
       "<style scoped>\n",
       "    .dataframe tbody tr th:only-of-type {\n",
       "        vertical-align: middle;\n",
       "    }\n",
       "\n",
       "    .dataframe tbody tr th {\n",
       "        vertical-align: top;\n",
       "    }\n",
       "\n",
       "    .dataframe thead th {\n",
       "        text-align: right;\n",
       "    }\n",
       "</style>\n",
       "<table border=\"1\" class=\"dataframe\">\n",
       "  <thead>\n",
       "    <tr style=\"text-align: right;\">\n",
       "      <th></th>\n",
       "      <th>time</th>\n",
       "      <th>eventType</th>\n",
       "      <th>id</th>\n",
       "      <th>newStatus</th>\n",
       "      <th>additionalInfo</th>\n",
       "    </tr>\n",
       "  </thead>\n",
       "  <tbody>\n",
       "    <tr>\n",
       "      <th>0</th>\n",
       "      <td>0</td>\n",
       "      <td>InfectionEvent</td>\n",
       "      <td>2048</td>\n",
       "      <td>EXPOSED</td>\n",
       "      <td>This case was an initial infection</td>\n",
       "    </tr>\n",
       "    <tr>\n",
       "      <th>1</th>\n",
       "      <td>0</td>\n",
       "      <td>InfectionEvent</td>\n",
       "      <td>4101</td>\n",
       "      <td>EXPOSED</td>\n",
       "      <td>This case was an initial infection</td>\n",
       "    </tr>\n",
       "    <tr>\n",
       "      <th>2</th>\n",
       "      <td>0</td>\n",
       "      <td>InfectionEvent</td>\n",
       "      <td>4104</td>\n",
       "      <td>EXPOSED</td>\n",
       "      <td>This case was an initial infection</td>\n",
       "    </tr>\n",
       "    <tr>\n",
       "      <th>3</th>\n",
       "      <td>0</td>\n",
       "      <td>InfectionEvent</td>\n",
       "      <td>2059</td>\n",
       "      <td>EXPOSED</td>\n",
       "      <td>This case was an initial infection</td>\n",
       "    </tr>\n",
       "    <tr>\n",
       "      <th>4</th>\n",
       "      <td>0</td>\n",
       "      <td>InfectionEvent</td>\n",
       "      <td>13</td>\n",
       "      <td>EXPOSED</td>\n",
       "      <td>This case was an initial infection</td>\n",
       "    </tr>\n",
       "  </tbody>\n",
       "</table>\n",
       "</div>"
      ],
      "text/plain": [
       "   time       eventType    id newStatus                      additionalInfo\n",
       "0     0  InfectionEvent  2048   EXPOSED  This case was an initial infection\n",
       "1     0  InfectionEvent  4101   EXPOSED  This case was an initial infection\n",
       "2     0  InfectionEvent  4104   EXPOSED  This case was an initial infection\n",
       "3     0  InfectionEvent  2059   EXPOSED  This case was an initial infection\n",
       "4     0  InfectionEvent    13   EXPOSED  This case was an initial infection"
      ]
     },
     "execution_count": 27,
     "metadata": {},
     "output_type": "execute_result"
    }
   ],
   "source": [
    "eventsDF = pd.read_csv('../../data/2020_07_01_newSet/events.csv')\n",
    "eventsDF.head()"
   ]
  },
  {
   "cell_type": "code",
   "execution_count": 32,
   "metadata": {},
   "outputs": [
    {
     "data": {
      "text/plain": [
       "array(['InfectionEvent', 'VirusEvent', 'AlertEvent'], dtype=object)"
      ]
     },
     "execution_count": 32,
     "metadata": {},
     "output_type": "execute_result"
    }
   ],
   "source": [
    "# These are the different types of events\n",
    "pd.unique(eventsDF.eventType)"
   ]
  },
  {
   "cell_type": "code",
   "execution_count": 239,
   "metadata": {},
   "outputs": [
    {
     "data": {
      "text/plain": [
       "{'font.size': 12.0,\n",
       " 'axes.labelsize': 12.0,\n",
       " 'axes.titlesize': 12.0,\n",
       " 'xtick.labelsize': 11.0,\n",
       " 'ytick.labelsize': 11.0,\n",
       " 'legend.fontsize': 11.0,\n",
       " 'axes.linewidth': 1.25,\n",
       " 'grid.linewidth': 1.0,\n",
       " 'lines.linewidth': 1.5,\n",
       " 'lines.markersize': 6.0,\n",
       " 'patch.linewidth': 1.0,\n",
       " 'xtick.major.width': 1.25,\n",
       " 'ytick.major.width': 1.25,\n",
       " 'xtick.minor.width': 1.0,\n",
       " 'ytick.minor.width': 1.0,\n",
       " 'xtick.major.size': 6.0,\n",
       " 'ytick.major.size': 6.0,\n",
       " 'xtick.minor.size': 4.0,\n",
       " 'ytick.minor.size': 4.0,\n",
       " 'legend.title_fontsize': 12.0}"
      ]
     },
     "execution_count": 239,
     "metadata": {},
     "output_type": "execute_result"
    }
   ],
   "source": [
    "sns.plotting_context()"
   ]
  },
  {
   "cell_type": "code",
   "execution_count": 243,
   "metadata": {},
   "outputs": [
    {
     "data": {
      "image/png": "[encoded data removed]",
      "text/plain": [
       "<Figure size 360x360 with 1 Axes>"
      ]
     },
     "metadata": {},
     "output_type": "display_data"
    }
   ],
   "source": [
    "sns.set_style(\"whitegrid\")\n",
    "sns.set(font=\"Avenir\")\n",
    "sns.catplot(y=\"eventType\", kind=\"count\", data=eventsDF, color=\"#A9A9A9\");"
   ]
  },
  {
   "cell_type": "code",
   "execution_count": 237,
   "metadata": {},
   "outputs": [
    {
     "data": {
      "text/plain": [
       "array(['EXPOSED', 'ASYMPTOMATIC', 'PRESYMPTOMATIC', 'RECOVERED',\n",
       "       'SYMPTOMATIC', 'REQUESTED_TEST', 'SEVERELY_SYMPTOMATIC',\n",
       "       'AWAITING_RESULT', 'ALERTED', 'TESTED_POSITIVE', 'TESTED_NEGATIVE',\n",
       "       'NONE', 'DEAD'], dtype=object)"
      ]
     },
     "execution_count": 237,
     "metadata": {},
     "output_type": "execute_result"
    }
   ],
   "source": [
    "pd.unique(eventsDF.newStatus)"
   ]
  },
  {
   "cell_type": "code",
   "execution_count": 245,
   "metadata": {},
   "outputs": [
    {
     "data": {
      "image/png": "[encoded data removed]",
      "text/plain": [
       "<Figure size 360x360 with 1 Axes>"
      ]
     },
     "metadata": {},
     "output_type": "display_data"
    }
   ],
   "source": [
    "sns.catplot(y=\"newStatus\", kind=\"count\", data=eventsDF, color=\"#A9A9A9\");"
   ]
  },
  {
   "cell_type": "code",
   "execution_count": 54,
   "metadata": {},
   "outputs": [],
   "source": [
    "groupedByID = eventsDF.groupby(['id'])"
   ]
  },
  {
   "cell_type": "code",
   "execution_count": 71,
   "metadata": {},
   "outputs": [],
   "source": [
    "#informationSeries = eventsDF.groupby(['id'])['additionalInfo'].apply(list)\n",
    "# stateChangesPerNode = eventsDF.groupby(['id'])['newStatus'].apply(list)\n",
    "\n",
    "# The following joins all the string data as separate lists per node\n",
    "# These could come in handy if we want to do some examples of individual journey visualisations\n",
    "#statesPerNode = eventsDF.groupby(['id'])['newStatus'].apply(list)\n",
    "statesPerNode = groupedByID['newStatus'].apply(list)\n",
    "timeSeriesPerNode = groupedByID['time'].apply(list)\n",
    "eventTypesPerNode = groupedByID['eventType'].apply(list)"
   ]
  },
  {
   "cell_type": "code",
   "execution_count": 278,
   "metadata": {},
   "outputs": [
    {
     "data": {
      "text/plain": [
       "4966"
      ]
     },
     "execution_count": 278,
     "metadata": {},
     "output_type": "execute_result"
    }
   ],
   "source": [
    "# Check the number of asymptomatic cases\n",
    "asymptomatic = statesPerNode.apply(lambda x: \"ASYMPTOMATIC\" in x)\n",
    "asymptomatic.values.sum() "
   ]
  },
  {
   "cell_type": "code",
   "execution_count": 172,
   "metadata": {},
   "outputs": [
    {
     "data": {
      "text/plain": [
       "['EXPOSED', 'EXPOSED', 'ASYMPTOMATIC', 'RECOVERED']"
      ]
     },
     "execution_count": 172,
     "metadata": {},
     "output_type": "execute_result"
    }
   ],
   "source": [
    "statesPerNode[2]"
   ]
  },
  {
   "cell_type": "code",
   "execution_count": 286,
   "metadata": {},
   "outputs": [
    {
     "data": {
      "text/plain": [
       "id\n",
       "0                    [3, 6, 8, 9, 9, 10, 10, 17]\n",
       "1                [8, 10, 13, 14, 16, 17, 18, 18]\n",
       "2                                 [9, 9, 11, 14]\n",
       "3             [8, 9, 11, 12, 12, 13, 14, 15, 15]\n",
       "4       [15, 16, 23, 26, 27, 27, 28, 29, 30, 30]\n",
       "                          ...                   \n",
       "9995                [13, 21, 22, 23, 24, 24, 27]\n",
       "9996              [4, 8, 10, 11, 12, 12, 16, 23]\n",
       "9997                                [10, 11, 12]\n",
       "9998                                  [2, 4, 12]\n",
       "9999            [12, 17, 19, 20, 22, 23, 23, 26]\n",
       "Name: time, Length: 9998, dtype: object"
      ]
     },
     "execution_count": 286,
     "metadata": {},
     "output_type": "execute_result"
    }
   ],
   "source": [
    "timeSeriesPerNode"
   ]
  },
  {
   "cell_type": "code",
   "execution_count": 287,
   "metadata": {},
   "outputs": [
    {
     "data": {
      "text/plain": [
       "[3, 6, 8, 9, 9, 10, 10, 17]"
      ]
     },
     "execution_count": 287,
     "metadata": {},
     "output_type": "execute_result"
    }
   ],
   "source": [
    "timeSeriesPerNode[0]"
   ]
  },
  {
   "cell_type": "code",
   "execution_count": 79,
   "metadata": {},
   "outputs": [
    {
     "data": {
      "text/plain": [
       "['InfectionEvent',\n",
       " 'VirusEvent',\n",
       " 'VirusEvent',\n",
       " 'AlertEvent',\n",
       " 'VirusEvent',\n",
       " 'AlertEvent',\n",
       " 'AlertEvent',\n",
       " 'VirusEvent']"
      ]
     },
     "execution_count": 79,
     "metadata": {},
     "output_type": "execute_result"
    }
   ],
   "source": [
    "eventTypesPerNode[0]"
   ]
  },
  {
   "cell_type": "markdown",
   "metadata": {},
   "source": [
    "### A second version where we look at only the virus events"
   ]
  },
  {
   "cell_type": "code",
   "execution_count": 101,
   "metadata": {},
   "outputs": [],
   "source": [
    "groupedByIDAndEventType = eventsDF.groupby(['id', 'eventType'])"
   ]
  },
  {
   "cell_type": "code",
   "execution_count": 152,
   "metadata": {},
   "outputs": [
    {
     "data": {
      "text/plain": [
       "id    eventType     \n",
       "0     AlertEvent        [REQUESTED_TEST, AWAITING_RESULT, TESTED_POSIT...\n",
       "      InfectionEvent                                            [EXPOSED]\n",
       "      VirusEvent        [PRESYMPTOMATIC, SYMPTOMATIC, SEVERELY_SYMPTOM...\n",
       "1     AlertEvent        [REQUESTED_TEST, AWAITING_RESULT, TESTED_NEGAT...\n",
       "      InfectionEvent                                            [EXPOSED]\n",
       "                                              ...                        \n",
       "9998  InfectionEvent                                            [EXPOSED]\n",
       "      VirusEvent                                [ASYMPTOMATIC, RECOVERED]\n",
       "9999  AlertEvent        [REQUESTED_TEST, AWAITING_RESULT, TESTED_POSIT...\n",
       "      InfectionEvent                                            [EXPOSED]\n",
       "      VirusEvent        [PRESYMPTOMATIC, SYMPTOMATIC, SEVERELY_SYMPTOM...\n",
       "Name: newStatus, Length: 26528, dtype: object"
      ]
     },
     "execution_count": 152,
     "metadata": {},
     "output_type": "execute_result"
    }
   ],
   "source": [
    "statesPerNodeEventType = groupedByIDAndEventType['newStatus'].apply(list)\n"
   ]
  },
  {
   "cell_type": "code",
   "execution_count": 104,
   "metadata": {},
   "outputs": [],
   "source": [
    "timePerNodeEventType = groupedByIDAndEventType['time'].apply(list)"
   ]
  },
  {
   "cell_type": "code",
   "execution_count": 105,
   "metadata": {},
   "outputs": [
    {
     "data": {
      "text/plain": [
       "[3, 10, 15]"
      ]
     },
     "execution_count": 105,
     "metadata": {},
     "output_type": "execute_result"
    }
   ],
   "source": [
    "timesPerNodeEventType[86]['VirusEvent']"
   ]
  },
  {
   "cell_type": "markdown",
   "metadata": {},
   "source": [
    "# Working on a subset with Virus Events and find transition trails\n",
    "\n",
    "*This is pretty much the code as above but we start with a suubset of VirusEvents. This is to ensure that we are looking only at events that involve state changes within the compartmentalised model.*"
   ]
  },
  {
   "cell_type": "code",
   "execution_count": 166,
   "metadata": {},
   "outputs": [
    {
     "data": {
      "text/plain": [
       "9998"
      ]
     },
     "execution_count": 166,
     "metadata": {},
     "output_type": "execute_result"
    }
   ],
   "source": [
    "eventsDF.head()\n",
    "virusEventsDF = eventsDF[eventsDF['eventType'] == 'VirusEvent'] \n",
    "virusEventsDF\n",
    "pd.unique(virusEventsDF.id).size"
   ]
  },
  {
   "cell_type": "code",
   "execution_count": 167,
   "metadata": {},
   "outputs": [],
   "source": [
    "groupedByID_vir = virusEventsDF.groupby(['id'])"
   ]
  },
  {
   "cell_type": "code",
   "execution_count": 168,
   "metadata": {},
   "outputs": [],
   "source": [
    "statesPerNode_vir = groupedByID_vir['newStatus'].apply(list)\n",
    "timeSeriesPerNode_vir = groupedByID_vir['time'].apply(list)\n",
    "eventTypesPerNode_vir = groupedByID_vir['eventType'].apply(list)"
   ]
  },
  {
   "cell_type": "code",
   "execution_count": 174,
   "metadata": {},
   "outputs": [],
   "source": [
    "asymptomatic = statesPerNode_vir.apply(lambda x: \"ASYMPTOMATIC\" in x)"
   ]
  },
  {
   "cell_type": "code",
   "execution_count": 170,
   "metadata": {},
   "outputs": [
    {
     "data": {
      "text/plain": [
       "id\n",
       "2       [11, 14]\n",
       "5       [14, 16]\n",
       "6       [18, 19]\n",
       "7       [12, 17]\n",
       "9       [15, 16]\n",
       "          ...   \n",
       "9990    [20, 26]\n",
       "9991     [2, 10]\n",
       "9993    [14, 19]\n",
       "9997    [11, 12]\n",
       "9998     [4, 12]\n",
       "Name: time, Length: 4966, dtype: object"
      ]
     },
     "execution_count": 170,
     "metadata": {},
     "output_type": "execute_result"
    }
   ],
   "source": [
    "timeSeriesPerNode_vir[asymptomatic.values]"
   ]
  },
  {
   "cell_type": "code",
   "execution_count": 175,
   "metadata": {},
   "outputs": [],
   "source": [
    "#statesPerNode_vir.to_csv(\"stateTransitions.csv\")\n",
    "symptomaticIDS = statesPerNode_vir.apply(lambda x: \"SYMPTOMATIC\" in x)"
   ]
  },
  {
   "cell_type": "code",
   "execution_count": 176,
   "metadata": {},
   "outputs": [
    {
     "data": {
      "text/plain": [
       "id\n",
       "0          [6, 8, 9, 17]\n",
       "1           [10, 13, 16]\n",
       "3        [9, 11, 12, 13]\n",
       "4       [23, 26, 27, 28]\n",
       "8       [11, 16, 19, 24]\n",
       "              ...       \n",
       "9992      [8, 9, 10, 16]\n",
       "9994      [5, 6, 10, 13]\n",
       "9995        [21, 22, 27]\n",
       "9996     [8, 10, 16, 23]\n",
       "9999    [17, 19, 22, 26]\n",
       "Name: time, Length: 5032, dtype: object"
      ]
     },
     "execution_count": 176,
     "metadata": {},
     "output_type": "execute_result"
    }
   ],
   "source": [
    "timeSeriesPerNode_vir[symptomaticIDS.values]"
   ]
  },
  {
   "cell_type": "code",
   "execution_count": 177,
   "metadata": {},
   "outputs": [
    {
     "data": {
      "text/plain": [
       "id\n",
       "0       [PRESYMPTOMATIC, SYMPTOMATIC, SEVERELY_SYMPTOM...\n",
       "1                [PRESYMPTOMATIC, SYMPTOMATIC, RECOVERED]\n",
       "3       [PRESYMPTOMATIC, SYMPTOMATIC, SEVERELY_SYMPTOM...\n",
       "4       [PRESYMPTOMATIC, SYMPTOMATIC, SEVERELY_SYMPTOM...\n",
       "8       [PRESYMPTOMATIC, SYMPTOMATIC, SEVERELY_SYMPTOM...\n",
       "                              ...                        \n",
       "9992    [PRESYMPTOMATIC, SYMPTOMATIC, SEVERELY_SYMPTOM...\n",
       "9994    [PRESYMPTOMATIC, SYMPTOMATIC, SEVERELY_SYMPTOM...\n",
       "9995             [PRESYMPTOMATIC, SYMPTOMATIC, RECOVERED]\n",
       "9996    [PRESYMPTOMATIC, SYMPTOMATIC, SEVERELY_SYMPTOM...\n",
       "9999    [PRESYMPTOMATIC, SYMPTOMATIC, SEVERELY_SYMPTOM...\n",
       "Name: newStatus, Length: 5032, dtype: object"
      ]
     },
     "execution_count": 177,
     "metadata": {},
     "output_type": "execute_result"
    }
   ],
   "source": [
    "statesPerNode_vir[symptomaticIDS.values]"
   ]
  },
  {
   "cell_type": "markdown",
   "metadata": {},
   "source": [
    "**Building functionality:** Let's do a function here that checks the status of a node `X` at a given time `t`"
   ]
  },
  {
   "cell_type": "code",
   "execution_count": 347,
   "metadata": {},
   "outputs": [
    {
     "name": "stdout",
     "output_type": "stream",
     "text": [
      "['PRESYMPTOMATIC', 'SYMPTOMATIC', 'SEVERELY_SYMPTOMATIC', 'RECOVERED']\n",
      "[23, 26, 27, 28]\n",
      "3\n"
     ]
    },
    {
     "data": {
      "text/plain": [
       "'SEVERELY_SYMPTOMATIC'"
      ]
     },
     "execution_count": 347,
     "metadata": {},
     "output_type": "execute_result"
    }
   ],
   "source": [
    "#statesPerNode_vir = groupedByID_vir['newStatus'].apply(list)\n",
    "#timeSeriesPerNode_vir = groupedByID_vir['time'].apply(list)\n",
    "#eventTypesPerNode_vir = groupedByID_vir['eventType'].apply(list)\n",
    "\n",
    "\n",
    "def returnDiseaseStatusForNodeAtGivenTime(nodeID, queryTime):\n",
    "    \"\"\"Returns the disease status for a node `nodeID` at a given time\"\"\"\n",
    "    statusOfSource = \"EXPOSED\"\n",
    "    if queryTime < timeSeriesPerNode_vir[nodeID][0]:\n",
    "        # This probably shouldn't happen -- someone who is exposed infecting before becoming presymptomatic\n",
    "        print(\"An exposed individual infecting others before becoming presymptomatic!!\")\n",
    "    else:    \n",
    "        timeIndex = np.searchsorted(timeSeriesPerNode_vir[nodeID], queryTime, side = 'right')\n",
    "        print(timeIndex)\n",
    "        statusOfSource = statesPerNode_vir[nodeID][timeIndex - 1]\n",
    "    return statusOfSource\n",
    "\n",
    "# let's test the above\n",
    "nodeID = 4\n",
    "infectionTime = 27\n",
    "print(statesPerNode_vir[nodeID])\n",
    "print(timeSeriesPerNode_vir[nodeID]) \n",
    "returnDiseaseStatusForNodeAtGivenTime(nodeID, infectionTime)"
   ]
  },
  {
   "cell_type": "markdown",
   "metadata": {},
   "source": [
    "## Reading in the ages for the nodes"
   ]
  },
  {
   "cell_type": "code",
   "execution_count": 359,
   "metadata": {},
   "outputs": [
    {
     "data": {
      "text/plain": [
       "0         1\n",
       "1         5\n",
       "2        17\n",
       "3        29\n",
       "4        68\n",
       "         ..\n",
       "19995    83\n",
       "19996    33\n",
       "19997    38\n",
       "19998    67\n",
       "19999     0\n",
       "Name: age, Length: 20000, dtype: int64"
      ]
     },
     "execution_count": 359,
     "metadata": {},
     "output_type": "execute_result"
    }
   ],
   "source": [
    "nodeAges = pd.read_csv('../../data/2020_07_01_newSet/ids_Paul.csv')\n",
    "nodeAges['age']\n"
   ]
  },
  {
   "cell_type": "code",
   "execution_count": 354,
   "metadata": {},
   "outputs": [
    {
     "data": {
      "image/png": "[encoded data removed]",
      "text/plain": [
       "<Figure size 1152x432 with 1 Axes>"
      ]
     },
     "metadata": {},
     "output_type": "display_data"
    }
   ],
   "source": [
    "sns.set(font_scale=1.5)\n",
    "plt.figure(figsize=(16, 6))\n",
    "sns.distplot(nodeAges['age']).set_title(\"Distribution of Node Ages\");"
   ]
  },
  {
   "cell_type": "markdown",
   "metadata": {},
   "source": [
    "# Some work with the compartments data"
   ]
  },
  {
   "cell_type": "code",
   "execution_count": 178,
   "metadata": {},
   "outputs": [
    {
     "data": {
      "text/html": [
       "<div>\n",
       "<style scoped>\n",
       "    .dataframe tbody tr th:only-of-type {\n",
       "        vertical-align: middle;\n",
       "    }\n",
       "\n",
       "    .dataframe tbody tr th {\n",
       "        vertical-align: top;\n",
       "    }\n",
       "\n",
       "    .dataframe thead th {\n",
       "        text-align: right;\n",
       "    }\n",
       "</style>\n",
       "<table border=\"1\" class=\"dataframe\">\n",
       "  <thead>\n",
       "    <tr style=\"text-align: right;\">\n",
       "      <th></th>\n",
       "      <th>time</th>\n",
       "      <th>s</th>\n",
       "      <th>e</th>\n",
       "      <th>a</th>\n",
       "      <th>p</th>\n",
       "      <th>sym</th>\n",
       "      <th>sev</th>\n",
       "      <th>r</th>\n",
       "      <th>d</th>\n",
       "    </tr>\n",
       "  </thead>\n",
       "  <tbody>\n",
       "    <tr>\n",
       "      <th>0</th>\n",
       "      <td>0</td>\n",
       "      <td>9000</td>\n",
       "      <td>1000</td>\n",
       "      <td>0</td>\n",
       "      <td>0</td>\n",
       "      <td>0</td>\n",
       "      <td>0</td>\n",
       "      <td>0</td>\n",
       "      <td>0</td>\n",
       "    </tr>\n",
       "    <tr>\n",
       "      <th>1</th>\n",
       "      <td>1</td>\n",
       "      <td>8553</td>\n",
       "      <td>1196</td>\n",
       "      <td>132</td>\n",
       "      <td>119</td>\n",
       "      <td>0</td>\n",
       "      <td>0</td>\n",
       "      <td>0</td>\n",
       "      <td>0</td>\n",
       "    </tr>\n",
       "    <tr>\n",
       "      <th>2</th>\n",
       "      <td>2</td>\n",
       "      <td>8134</td>\n",
       "      <td>1304</td>\n",
       "      <td>253</td>\n",
       "      <td>238</td>\n",
       "      <td>35</td>\n",
       "      <td>0</td>\n",
       "      <td>36</td>\n",
       "      <td>0</td>\n",
       "    </tr>\n",
       "    <tr>\n",
       "      <th>3</th>\n",
       "      <td>3</td>\n",
       "      <td>7580</td>\n",
       "      <td>1557</td>\n",
       "      <td>358</td>\n",
       "      <td>326</td>\n",
       "      <td>85</td>\n",
       "      <td>1</td>\n",
       "      <td>93</td>\n",
       "      <td>0</td>\n",
       "    </tr>\n",
       "    <tr>\n",
       "      <th>4</th>\n",
       "      <td>4</td>\n",
       "      <td>6929</td>\n",
       "      <td>1801</td>\n",
       "      <td>483</td>\n",
       "      <td>449</td>\n",
       "      <td>145</td>\n",
       "      <td>12</td>\n",
       "      <td>181</td>\n",
       "      <td>0</td>\n",
       "    </tr>\n",
       "  </tbody>\n",
       "</table>\n",
       "</div>"
      ],
      "text/plain": [
       "   time     s     e    a    p  sym  sev    r  d\n",
       "0     0  9000  1000    0    0    0    0    0  0\n",
       "1     1  8553  1196  132  119    0    0    0  0\n",
       "2     2  8134  1304  253  238   35    0   36  0\n",
       "3     3  7580  1557  358  326   85    1   93  0\n",
       "4     4  6929  1801  483  449  145   12  181  0"
      ]
     },
     "execution_count": 178,
     "metadata": {},
     "output_type": "execute_result"
    }
   ],
   "source": [
    "compartments = pd.read_csv('../../data/2020_07_01_newSet/Compartments.csv')\n",
    "compartments.head()"
   ]
  },
  {
   "cell_type": "code",
   "execution_count": 226,
   "metadata": {},
   "outputs": [],
   "source": [
    "c_melted = compartments.melt('time')\n",
    "pd.set_option('display.max_rows', 10)"
   ]
  },
  {
   "cell_type": "code",
   "execution_count": 228,
   "metadata": {},
   "outputs": [
    {
     "data": {
      "application/vnd.vegalite.v3+json": {
       "$schema": "https://vega.github.io/schema/vega-lite/v3.4.0.json",
       "config": {
        "mark": {
         "tooltip": null
        },
        "view": {
         "height": 300,
         "width": 400
        }
       },
       "data": {
        "name": "data-c5829504313b12cbf75b884f0e06a256"
       },
       "datasets": {
        "data-c5829504313b12cbf75b884f0e06a256": [
         {
          "time": 0,
          "value": 9000,
          "variable": "s"
         },
         {
          "time": 1,
          "value": 8553,
          "variable": "s"
         },
         {
          "time": 2,
          "value": 8134,
          "variable": "s"
         },
         {
          "time": 3,
          "value": 7580,
          "variable": "s"
         },
         {
          "time": 4,
          "value": 6929,
          "variable": "s"
         },
         {
          "time": 5,
          "value": 6175,
          "variable": "s"
         },
         {
          "time": 6,
          "value": 5599,
          "variable": "s"
         },
         {
          "time": 7,
          "value": 5014,
          "variable": "s"
         },
         {
          "time": 8,
          "value": 4246,
          "variable": "s"
         },
         {
          "time": 9,
          "value": 3540,
          "variable": "s"
         },
         {
          "time": 10,
          "value": 2964,
          "variable": "s"
         },
         {
          "time": 11,
          "value": 2464,
          "variable": "s"
         },
         {
          "time": 12,
          "value": 2050,
          "variable": "s"
         },
         {
          "time": 13,
          "value": 1748,
          "variable": "s"
         },
         {
          "time": 14,
          "value": 1479,
          "variable": "s"
         },
         {
          "time": 15,
          "value": 1214,
          "variable": "s"
         },
         {
          "time": 16,
          "value": 990,
          "variable": "s"
         },
         {
          "time": 17,
          "value": 833,
          "variable": "s"
         },
         {
          "time": 18,
          "value": 709,
          "variable": "s"
         },
         {
          "time": 19,
          "value": 597,
          "variable": "s"
         },
         {
          "time": 20,
          "value": 528,
          "variable": "s"
         },
         {
          "time": 21,
          "value": 456,
          "variable": "s"
         },
         {
          "time": 22,
          "value": 390,
          "variable": "s"
         },
         {
          "time": 23,
          "value": 334,
          "variable": "s"
         },
         {
          "time": 24,
          "value": 308,
          "variable": "s"
         },
         {
          "time": 25,
          "value": 272,
          "variable": "s"
         },
         {
          "time": 26,
          "value": 237,
          "variable": "s"
         },
         {
          "time": 27,
          "value": 222,
          "variable": "s"
         },
         {
          "time": 28,
          "value": 201,
          "variable": "s"
         },
         {
          "time": 29,
          "value": 188,
          "variable": "s"
         },
         {
          "time": 30,
          "value": 178,
          "variable": "s"
         },
         {
          "time": 31,
          "value": 165,
          "variable": "s"
         },
         {
          "time": 32,
          "value": 149,
          "variable": "s"
         },
         {
          "time": 33,
          "value": 134,
          "variable": "s"
         },
         {
          "time": 34,
          "value": 131,
          "variable": "s"
         },
         {
          "time": 35,
          "value": 122,
          "variable": "s"
         },
         {
          "time": 36,
          "value": 108,
          "variable": "s"
         },
         {
          "time": 37,
          "value": 106,
          "variable": "s"
         },
         {
          "time": 38,
          "value": 100,
          "variable": "s"
         },
         {
          "time": 39,
          "value": 90,
          "variable": "s"
         },
         {
          "time": 40,
          "value": 81,
          "variable": "s"
         },
         {
          "time": 41,
          "value": 75,
          "variable": "s"
         },
         {
          "time": 42,
          "value": 71,
          "variable": "s"
         },
         {
          "time": 43,
          "value": 63,
          "variable": "s"
         },
         {
          "time": 44,
          "value": 58,
          "variable": "s"
         },
         {
          "time": 45,
          "value": 53,
          "variable": "s"
         },
         {
          "time": 46,
          "value": 49,
          "variable": "s"
         },
         {
          "time": 47,
          "value": 42,
          "variable": "s"
         },
         {
          "time": 48,
          "value": 42,
          "variable": "s"
         },
         {
          "time": 49,
          "value": 40,
          "variable": "s"
         },
         {
          "time": 50,
          "value": 36,
          "variable": "s"
         },
         {
          "time": 51,
          "value": 34,
          "variable": "s"
         },
         {
          "time": 52,
          "value": 30,
          "variable": "s"
         },
         {
          "time": 53,
          "value": 27,
          "variable": "s"
         },
         {
          "time": 54,
          "value": 26,
          "variable": "s"
         },
         {
          "time": 55,
          "value": 25,
          "variable": "s"
         },
         {
          "time": 56,
          "value": 24,
          "variable": "s"
         },
         {
          "time": 57,
          "value": 23,
          "variable": "s"
         },
         {
          "time": 58,
          "value": 23,
          "variable": "s"
         },
         {
          "time": 59,
          "value": 21,
          "variable": "s"
         },
         {
          "time": 60,
          "value": 20,
          "variable": "s"
         },
         {
          "time": 61,
          "value": 18,
          "variable": "s"
         },
         {
          "time": 62,
          "value": 16,
          "variable": "s"
         },
         {
          "time": 63,
          "value": 15,
          "variable": "s"
         },
         {
          "time": 64,
          "value": 15,
          "variable": "s"
         },
         {
          "time": 65,
          "value": 13,
          "variable": "s"
         },
         {
          "time": 66,
          "value": 12,
          "variable": "s"
         },
         {
          "time": 67,
          "value": 12,
          "variable": "s"
         },
         {
          "time": 68,
          "value": 12,
          "variable": "s"
         },
         {
          "time": 69,
          "value": 12,
          "variable": "s"
         },
         {
          "time": 70,
          "value": 11,
          "variable": "s"
         },
         {
          "time": 71,
          "value": 10,
          "variable": "s"
         },
         {
          "time": 72,
          "value": 10,
          "variable": "s"
         },
         {
          "time": 73,
          "value": 9,
          "variable": "s"
         },
         {
          "time": 74,
          "value": 8,
          "variable": "s"
         },
         {
          "time": 75,
          "value": 8,
          "variable": "s"
         },
         {
          "time": 76,
          "value": 8,
          "variable": "s"
         },
         {
          "time": 77,
          "value": 8,
          "variable": "s"
         },
         {
          "time": 78,
          "value": 8,
          "variable": "s"
         },
         {
          "time": 79,
          "value": 7,
          "variable": "s"
         },
         {
          "time": 80,
          "value": 7,
          "variable": "s"
         },
         {
          "time": 81,
          "value": 7,
          "variable": "s"
         },
         {
          "time": 82,
          "value": 6,
          "variable": "s"
         },
         {
          "time": 83,
          "value": 6,
          "variable": "s"
         },
         {
          "time": 84,
          "value": 5,
          "variable": "s"
         },
         {
          "time": 85,
          "value": 3,
          "variable": "s"
         },
         {
          "time": 86,
          "value": 3,
          "variable": "s"
         },
         {
          "time": 87,
          "value": 2,
          "variable": "s"
         },
         {
          "time": 88,
          "value": 2,
          "variable": "s"
         },
         {
          "time": 89,
          "value": 2,
          "variable": "s"
         },
         {
          "time": 90,
          "value": 2,
          "variable": "s"
         },
         {
          "time": 91,
          "value": 2,
          "variable": "s"
         },
         {
          "time": 92,
          "value": 2,
          "variable": "s"
         },
         {
          "time": 93,
          "value": 2,
          "variable": "s"
         },
         {
          "time": 94,
          "value": 2,
          "variable": "s"
         },
         {
          "time": 95,
          "value": 2,
          "variable": "s"
         },
         {
          "time": 96,
          "value": 2,
          "variable": "s"
         },
         {
          "time": 97,
          "value": 2,
          "variable": "s"
         },
         {
          "time": 98,
          "value": 2,
          "variable": "s"
         },
         {
          "time": 99,
          "value": 2,
          "variable": "s"
         },
         {
          "time": 100,
          "value": 2,
          "variable": "s"
         },
         {
          "time": 0,
          "value": 1000,
          "variable": "e"
         },
         {
          "time": 1,
          "value": 1196,
          "variable": "e"
         },
         {
          "time": 2,
          "value": 1304,
          "variable": "e"
         },
         {
          "time": 3,
          "value": 1557,
          "variable": "e"
         },
         {
          "time": 4,
          "value": 1801,
          "variable": "e"
         },
         {
          "time": 5,
          "value": 2112,
          "variable": "e"
         },
         {
          "time": 6,
          "value": 2171,
          "variable": "e"
         },
         {
          "time": 7,
          "value": 2138,
          "variable": "e"
         },
         {
          "time": 8,
          "value": 2316,
          "variable": "e"
         },
         {
          "time": 9,
          "value": 2359,
          "variable": "e"
         },
         {
          "time": 10,
          "value": 2312,
          "variable": "e"
         },
         {
          "time": 11,
          "value": 2116,
          "variable": "e"
         },
         {
          "time": 12,
          "value": 1909,
          "variable": "e"
         },
         {
          "time": 13,
          "value": 1657,
          "variable": "e"
         },
         {
          "time": 14,
          "value": 1421,
          "variable": "e"
         },
         {
          "time": 15,
          "value": 1223,
          "variable": "e"
         },
         {
          "time": 16,
          "value": 1059,
          "variable": "e"
         },
         {
          "time": 17,
          "value": 901,
          "variable": "e"
         },
         {
          "time": 18,
          "value": 735,
          "variable": "e"
         },
         {
          "time": 19,
          "value": 607,
          "variable": "e"
         },
         {
          "time": 20,
          "value": 492,
          "variable": "e"
         },
         {
          "time": 21,
          "value": 391,
          "variable": "e"
         },
         {
          "time": 22,
          "value": 321,
          "variable": "e"
         },
         {
          "time": 23,
          "value": 273,
          "variable": "e"
         },
         {
          "time": 24,
          "value": 202,
          "variable": "e"
         },
         {
          "time": 25,
          "value": 163,
          "variable": "e"
         },
         {
          "time": 26,
          "value": 137,
          "variable": "e"
         },
         {
          "time": 27,
          "value": 113,
          "variable": "e"
         },
         {
          "time": 28,
          "value": 89,
          "variable": "e"
         },
         {
          "time": 29,
          "value": 73,
          "variable": "e"
         },
         {
          "time": 30,
          "value": 61,
          "variable": "e"
         },
         {
          "time": 31,
          "value": 58,
          "variable": "e"
         },
         {
          "time": 32,
          "value": 56,
          "variable": "e"
         },
         {
          "time": 33,
          "value": 50,
          "variable": "e"
         },
         {
          "time": 34,
          "value": 43,
          "variable": "e"
         },
         {
          "time": 35,
          "value": 39,
          "variable": "e"
         },
         {
          "time": 36,
          "value": 38,
          "variable": "e"
         },
         {
          "time": 37,
          "value": 27,
          "variable": "e"
         },
         {
          "time": 38,
          "value": 24,
          "variable": "e"
         },
         {
          "time": 39,
          "value": 26,
          "variable": "e"
         },
         {
          "time": 40,
          "value": 29,
          "variable": "e"
         },
         {
          "time": 41,
          "value": 24,
          "variable": "e"
         },
         {
          "time": 42,
          "value": 21,
          "variable": "e"
         },
         {
          "time": 43,
          "value": 27,
          "variable": "e"
         },
         {
          "time": 44,
          "value": 22,
          "variable": "e"
         },
         {
          "time": 45,
          "value": 22,
          "variable": "e"
         },
         {
          "time": 46,
          "value": 23,
          "variable": "e"
         },
         {
          "time": 47,
          "value": 19,
          "variable": "e"
         },
         {
          "time": 48,
          "value": 13,
          "variable": "e"
         },
         {
          "time": 49,
          "value": 12,
          "variable": "e"
         },
         {
          "time": 50,
          "value": 14,
          "variable": "e"
         },
         {
          "time": 51,
          "value": 10,
          "variable": "e"
         },
         {
          "time": 52,
          "value": 11,
          "variable": "e"
         },
         {
          "time": 53,
          "value": 12,
          "variable": "e"
         },
         {
          "time": 54,
          "value": 10,
          "variable": "e"
         },
         {
          "time": 55,
          "value": 8,
          "variable": "e"
         },
         {
          "time": 56,
          "value": 7,
          "variable": "e"
         },
         {
          "time": 57,
          "value": 7,
          "variable": "e"
         },
         {
          "time": 58,
          "value": 5,
          "variable": "e"
         },
         {
          "time": 59,
          "value": 6,
          "variable": "e"
         },
         {
          "time": 60,
          "value": 4,
          "variable": "e"
         },
         {
          "time": 61,
          "value": 5,
          "variable": "e"
         },
         {
          "time": 62,
          "value": 7,
          "variable": "e"
         },
         {
          "time": 63,
          "value": 5,
          "variable": "e"
         },
         {
          "time": 64,
          "value": 4,
          "variable": "e"
         },
         {
          "time": 65,
          "value": 3,
          "variable": "e"
         },
         {
          "time": 66,
          "value": 4,
          "variable": "e"
         },
         {
          "time": 67,
          "value": 2,
          "variable": "e"
         },
         {
          "time": 68,
          "value": 2,
          "variable": "e"
         },
         {
          "time": 69,
          "value": 1,
          "variable": "e"
         },
         {
          "time": 70,
          "value": 2,
          "variable": "e"
         },
         {
          "time": 71,
          "value": 2,
          "variable": "e"
         },
         {
          "time": 72,
          "value": 2,
          "variable": "e"
         },
         {
          "time": 73,
          "value": 3,
          "variable": "e"
         },
         {
          "time": 74,
          "value": 4,
          "variable": "e"
         },
         {
          "time": 75,
          "value": 4,
          "variable": "e"
         },
         {
          "time": 76,
          "value": 1,
          "variable": "e"
         },
         {
          "time": 77,
          "value": 1,
          "variable": "e"
         },
         {
          "time": 78,
          "value": 0,
          "variable": "e"
         },
         {
          "time": 79,
          "value": 1,
          "variable": "e"
         },
         {
          "time": 80,
          "value": 1,
          "variable": "e"
         },
         {
          "time": 81,
          "value": 0,
          "variable": "e"
         },
         {
          "time": 82,
          "value": 1,
          "variable": "e"
         },
         {
          "time": 83,
          "value": 0,
          "variable": "e"
         },
         {
          "time": 84,
          "value": 1,
          "variable": "e"
         },
         {
          "time": 85,
          "value": 2,
          "variable": "e"
         },
         {
          "time": 86,
          "value": 0,
          "variable": "e"
         },
         {
          "time": 87,
          "value": 1,
          "variable": "e"
         },
         {
          "time": 88,
          "value": 1,
          "variable": "e"
         },
         {
          "time": 89,
          "value": 1,
          "variable": "e"
         },
         {
          "time": 90,
          "value": 0,
          "variable": "e"
         },
         {
          "time": 91,
          "value": 0,
          "variable": "e"
         },
         {
          "time": 92,
          "value": 0,
          "variable": "e"
         },
         {
          "time": 93,
          "value": 0,
          "variable": "e"
         },
         {
          "time": 94,
          "value": 0,
          "variable": "e"
         },
         {
          "time": 95,
          "value": 0,
          "variable": "e"
         },
         {
          "time": 96,
          "value": 0,
          "variable": "e"
         },
         {
          "time": 97,
          "value": 0,
          "variable": "e"
         },
         {
          "time": 98,
          "value": 0,
          "variable": "e"
         },
         {
          "time": 99,
          "value": 0,
          "variable": "e"
         },
         {
          "time": 100,
          "value": 0,
          "variable": "e"
         },
         {
          "time": 0,
          "value": 0,
          "variable": "a"
         },
         {
          "time": 1,
          "value": 132,
          "variable": "a"
         },
         {
          "time": 2,
          "value": 253,
          "variable": "a"
         },
         {
          "time": 3,
          "value": 358,
          "variable": "a"
         },
         {
          "time": 4,
          "value": 483,
          "variable": "a"
         },
         {
          "time": 5,
          "value": 594,
          "variable": "a"
         },
         {
          "time": 6,
          "value": 698,
          "variable": "a"
         },
         {
          "time": 7,
          "value": 834,
          "variable": "a"
         },
         {
          "time": 8,
          "value": 921,
          "variable": "a"
         },
         {
          "time": 9,
          "value": 1018,
          "variable": "a"
         },
         {
          "time": 10,
          "value": 1005,
          "variable": "a"
         },
         {
          "time": 11,
          "value": 1032,
          "variable": "a"
         },
         {
          "time": 12,
          "value": 1081,
          "variable": "a"
         },
         {
          "time": 13,
          "value": 1047,
          "variable": "a"
         },
         {
          "time": 14,
          "value": 1009,
          "variable": "a"
         },
         {
          "time": 15,
          "value": 901,
          "variable": "a"
         },
         {
          "time": 16,
          "value": 820,
          "variable": "a"
         },
         {
          "time": 17,
          "value": 745,
          "variable": "a"
         },
         {
          "time": 18,
          "value": 685,
          "variable": "a"
         },
         {
          "time": 19,
          "value": 575,
          "variable": "a"
         },
         {
          "time": 20,
          "value": 466,
          "variable": "a"
         },
         {
          "time": 21,
          "value": 404,
          "variable": "a"
         },
         {
          "time": 22,
          "value": 340,
          "variable": "a"
         },
         {
          "time": 23,
          "value": 270,
          "variable": "a"
         },
         {
          "time": 24,
          "value": 247,
          "variable": "a"
         },
         {
          "time": 25,
          "value": 196,
          "variable": "a"
         },
         {
          "time": 26,
          "value": 163,
          "variable": "a"
         },
         {
          "time": 27,
          "value": 128,
          "variable": "a"
         },
         {
          "time": 28,
          "value": 105,
          "variable": "a"
         },
         {
          "time": 29,
          "value": 72,
          "variable": "a"
         },
         {
          "time": 30,
          "value": 58,
          "variable": "a"
         },
         {
          "time": 31,
          "value": 39,
          "variable": "a"
         },
         {
          "time": 32,
          "value": 35,
          "variable": "a"
         },
         {
          "time": 33,
          "value": 32,
          "variable": "a"
         },
         {
          "time": 34,
          "value": 31,
          "variable": "a"
         },
         {
          "time": 35,
          "value": 32,
          "variable": "a"
         },
         {
          "time": 36,
          "value": 30,
          "variable": "a"
         },
         {
          "time": 37,
          "value": 28,
          "variable": "a"
         },
         {
          "time": 38,
          "value": 24,
          "variable": "a"
         },
         {
          "time": 39,
          "value": 18,
          "variable": "a"
         },
         {
          "time": 40,
          "value": 15,
          "variable": "a"
         },
         {
          "time": 41,
          "value": 17,
          "variable": "a"
         },
         {
          "time": 42,
          "value": 15,
          "variable": "a"
         },
         {
          "time": 43,
          "value": 14,
          "variable": "a"
         },
         {
          "time": 44,
          "value": 15,
          "variable": "a"
         },
         {
          "time": 45,
          "value": 12,
          "variable": "a"
         },
         {
          "time": 46,
          "value": 11,
          "variable": "a"
         },
         {
          "time": 47,
          "value": 13,
          "variable": "a"
         },
         {
          "time": 48,
          "value": 13,
          "variable": "a"
         },
         {
          "time": 49,
          "value": 8,
          "variable": "a"
         },
         {
          "time": 50,
          "value": 9,
          "variable": "a"
         },
         {
          "time": 51,
          "value": 8,
          "variable": "a"
         },
         {
          "time": 52,
          "value": 6,
          "variable": "a"
         },
         {
          "time": 53,
          "value": 6,
          "variable": "a"
         },
         {
          "time": 54,
          "value": 6,
          "variable": "a"
         },
         {
          "time": 55,
          "value": 3,
          "variable": "a"
         },
         {
          "time": 56,
          "value": 2,
          "variable": "a"
         },
         {
          "time": 57,
          "value": 3,
          "variable": "a"
         },
         {
          "time": 58,
          "value": 3,
          "variable": "a"
         },
         {
          "time": 59,
          "value": 4,
          "variable": "a"
         },
         {
          "time": 60,
          "value": 7,
          "variable": "a"
         },
         {
          "time": 61,
          "value": 5,
          "variable": "a"
         },
         {
          "time": 62,
          "value": 4,
          "variable": "a"
         },
         {
          "time": 63,
          "value": 4,
          "variable": "a"
         },
         {
          "time": 64,
          "value": 4,
          "variable": "a"
         },
         {
          "time": 65,
          "value": 2,
          "variable": "a"
         },
         {
          "time": 66,
          "value": 2,
          "variable": "a"
         },
         {
          "time": 67,
          "value": 2,
          "variable": "a"
         },
         {
          "time": 68,
          "value": 2,
          "variable": "a"
         },
         {
          "time": 69,
          "value": 1,
          "variable": "a"
         },
         {
          "time": 70,
          "value": 0,
          "variable": "a"
         },
         {
          "time": 71,
          "value": 1,
          "variable": "a"
         },
         {
          "time": 72,
          "value": 1,
          "variable": "a"
         },
         {
          "time": 73,
          "value": 1,
          "variable": "a"
         },
         {
          "time": 74,
          "value": 1,
          "variable": "a"
         },
         {
          "time": 75,
          "value": 1,
          "variable": "a"
         },
         {
          "time": 76,
          "value": 3,
          "variable": "a"
         },
         {
          "time": 77,
          "value": 1,
          "variable": "a"
         },
         {
          "time": 78,
          "value": 1,
          "variable": "a"
         },
         {
          "time": 79,
          "value": 1,
          "variable": "a"
         },
         {
          "time": 80,
          "value": 1,
          "variable": "a"
         },
         {
          "time": 81,
          "value": 1,
          "variable": "a"
         },
         {
          "time": 82,
          "value": 1,
          "variable": "a"
         },
         {
          "time": 83,
          "value": 1,
          "variable": "a"
         },
         {
          "time": 84,
          "value": 1,
          "variable": "a"
         },
         {
          "time": 85,
          "value": 0,
          "variable": "a"
         },
         {
          "time": 86,
          "value": 0,
          "variable": "a"
         },
         {
          "time": 87,
          "value": 0,
          "variable": "a"
         },
         {
          "time": 88,
          "value": 0,
          "variable": "a"
         },
         {
          "time": 89,
          "value": 0,
          "variable": "a"
         },
         {
          "time": 90,
          "value": 0,
          "variable": "a"
         },
         {
          "time": 91,
          "value": 0,
          "variable": "a"
         },
         {
          "time": 92,
          "value": 0,
          "variable": "a"
         },
         {
          "time": 93,
          "value": 0,
          "variable": "a"
         },
         {
          "time": 94,
          "value": 0,
          "variable": "a"
         },
         {
          "time": 95,
          "value": 0,
          "variable": "a"
         },
         {
          "time": 96,
          "value": 0,
          "variable": "a"
         },
         {
          "time": 97,
          "value": 0,
          "variable": "a"
         },
         {
          "time": 98,
          "value": 0,
          "variable": "a"
         },
         {
          "time": 99,
          "value": 0,
          "variable": "a"
         },
         {
          "time": 100,
          "value": 0,
          "variable": "a"
         },
         {
          "time": 0,
          "value": 0,
          "variable": "p"
         },
         {
          "time": 1,
          "value": 119,
          "variable": "p"
         },
         {
          "time": 2,
          "value": 238,
          "variable": "p"
         },
         {
          "time": 3,
          "value": 326,
          "variable": "p"
         },
         {
          "time": 4,
          "value": 449,
          "variable": "p"
         },
         {
          "time": 5,
          "value": 548,
          "variable": "p"
         },
         {
          "time": 6,
          "value": 662,
          "variable": "p"
         },
         {
          "time": 7,
          "value": 823,
          "variable": "p"
         },
         {
          "time": 8,
          "value": 893,
          "variable": "p"
         },
         {
          "time": 9,
          "value": 983,
          "variable": "p"
         },
         {
          "time": 10,
          "value": 1054,
          "variable": "p"
         },
         {
          "time": 11,
          "value": 1138,
          "variable": "p"
         },
         {
          "time": 12,
          "value": 1143,
          "variable": "p"
         },
         {
          "time": 13,
          "value": 1109,
          "variable": "p"
         },
         {
          "time": 14,
          "value": 1023,
          "variable": "p"
         },
         {
          "time": 15,
          "value": 977,
          "variable": "p"
         },
         {
          "time": 16,
          "value": 885,
          "variable": "p"
         },
         {
          "time": 17,
          "value": 782,
          "variable": "p"
         },
         {
          "time": 18,
          "value": 670,
          "variable": "p"
         },
         {
          "time": 19,
          "value": 594,
          "variable": "p"
         },
         {
          "time": 20,
          "value": 495,
          "variable": "p"
         },
         {
          "time": 21,
          "value": 442,
          "variable": "p"
         },
         {
          "time": 22,
          "value": 390,
          "variable": "p"
         },
         {
          "time": 23,
          "value": 326,
          "variable": "p"
         },
         {
          "time": 24,
          "value": 263,
          "variable": "p"
         },
         {
          "time": 25,
          "value": 217,
          "variable": "p"
         },
         {
          "time": 26,
          "value": 174,
          "variable": "p"
         },
         {
          "time": 27,
          "value": 149,
          "variable": "p"
         },
         {
          "time": 28,
          "value": 123,
          "variable": "p"
         },
         {
          "time": 29,
          "value": 102,
          "variable": "p"
         },
         {
          "time": 30,
          "value": 83,
          "variable": "p"
         },
         {
          "time": 31,
          "value": 64,
          "variable": "p"
         },
         {
          "time": 32,
          "value": 51,
          "variable": "p"
         },
         {
          "time": 33,
          "value": 47,
          "variable": "p"
         },
         {
          "time": 34,
          "value": 38,
          "variable": "p"
         },
         {
          "time": 35,
          "value": 31,
          "variable": "p"
         },
         {
          "time": 36,
          "value": 29,
          "variable": "p"
         },
         {
          "time": 37,
          "value": 27,
          "variable": "p"
         },
         {
          "time": 38,
          "value": 17,
          "variable": "p"
         },
         {
          "time": 39,
          "value": 18,
          "variable": "p"
         },
         {
          "time": 40,
          "value": 16,
          "variable": "p"
         },
         {
          "time": 41,
          "value": 16,
          "variable": "p"
         },
         {
          "time": 42,
          "value": 15,
          "variable": "p"
         },
         {
          "time": 43,
          "value": 12,
          "variable": "p"
         },
         {
          "time": 44,
          "value": 11,
          "variable": "p"
         },
         {
          "time": 45,
          "value": 8,
          "variable": "p"
         },
         {
          "time": 46,
          "value": 7,
          "variable": "p"
         },
         {
          "time": 47,
          "value": 12,
          "variable": "p"
         },
         {
          "time": 48,
          "value": 11,
          "variable": "p"
         },
         {
          "time": 49,
          "value": 8,
          "variable": "p"
         },
         {
          "time": 50,
          "value": 6,
          "variable": "p"
         },
         {
          "time": 51,
          "value": 8,
          "variable": "p"
         },
         {
          "time": 52,
          "value": 6,
          "variable": "p"
         },
         {
          "time": 53,
          "value": 6,
          "variable": "p"
         },
         {
          "time": 54,
          "value": 6,
          "variable": "p"
         },
         {
          "time": 55,
          "value": 6,
          "variable": "p"
         },
         {
          "time": 56,
          "value": 7,
          "variable": "p"
         },
         {
          "time": 57,
          "value": 6,
          "variable": "p"
         },
         {
          "time": 58,
          "value": 6,
          "variable": "p"
         },
         {
          "time": 59,
          "value": 2,
          "variable": "p"
         },
         {
          "time": 60,
          "value": 1,
          "variable": "p"
         },
         {
          "time": 61,
          "value": 1,
          "variable": "p"
         },
         {
          "time": 62,
          "value": 1,
          "variable": "p"
         },
         {
          "time": 63,
          "value": 2,
          "variable": "p"
         },
         {
          "time": 64,
          "value": 2,
          "variable": "p"
         },
         {
          "time": 65,
          "value": 3,
          "variable": "p"
         },
         {
          "time": 66,
          "value": 3,
          "variable": "p"
         },
         {
          "time": 67,
          "value": 5,
          "variable": "p"
         },
         {
          "time": 68,
          "value": 2,
          "variable": "p"
         },
         {
          "time": 69,
          "value": 3,
          "variable": "p"
         },
         {
          "time": 70,
          "value": 3,
          "variable": "p"
         },
         {
          "time": 71,
          "value": 2,
          "variable": "p"
         },
         {
          "time": 72,
          "value": 0,
          "variable": "p"
         },
         {
          "time": 73,
          "value": 0,
          "variable": "p"
         },
         {
          "time": 74,
          "value": 0,
          "variable": "p"
         },
         {
          "time": 75,
          "value": 0,
          "variable": "p"
         },
         {
          "time": 76,
          "value": 1,
          "variable": "p"
         },
         {
          "time": 77,
          "value": 1,
          "variable": "p"
         },
         {
          "time": 78,
          "value": 1,
          "variable": "p"
         },
         {
          "time": 79,
          "value": 1,
          "variable": "p"
         },
         {
          "time": 80,
          "value": 1,
          "variable": "p"
         },
         {
          "time": 81,
          "value": 1,
          "variable": "p"
         },
         {
          "time": 82,
          "value": 0,
          "variable": "p"
         },
         {
          "time": 83,
          "value": 1,
          "variable": "p"
         },
         {
          "time": 84,
          "value": 1,
          "variable": "p"
         },
         {
          "time": 85,
          "value": 2,
          "variable": "p"
         },
         {
          "time": 86,
          "value": 3,
          "variable": "p"
         },
         {
          "time": 87,
          "value": 2,
          "variable": "p"
         },
         {
          "time": 88,
          "value": 2,
          "variable": "p"
         },
         {
          "time": 89,
          "value": 2,
          "variable": "p"
         },
         {
          "time": 90,
          "value": 2,
          "variable": "p"
         },
         {
          "time": 91,
          "value": 1,
          "variable": "p"
         },
         {
          "time": 92,
          "value": 1,
          "variable": "p"
         },
         {
          "time": 93,
          "value": 0,
          "variable": "p"
         },
         {
          "time": 94,
          "value": 0,
          "variable": "p"
         },
         {
          "time": 95,
          "value": 0,
          "variable": "p"
         },
         {
          "time": 96,
          "value": 0,
          "variable": "p"
         },
         {
          "time": 97,
          "value": 0,
          "variable": "p"
         },
         {
          "time": 98,
          "value": 0,
          "variable": "p"
         },
         {
          "time": 99,
          "value": 0,
          "variable": "p"
         },
         {
          "time": 100,
          "value": 0,
          "variable": "p"
         },
         {
          "time": 0,
          "value": 0,
          "variable": "sym"
         },
         {
          "time": 1,
          "value": 0,
          "variable": "sym"
         },
         {
          "time": 2,
          "value": 35,
          "variable": "sym"
         },
         {
          "time": 3,
          "value": 85,
          "variable": "sym"
         },
         {
          "time": 4,
          "value": 145,
          "variable": "sym"
         },
         {
          "time": 5,
          "value": 229,
          "variable": "sym"
         },
         {
          "time": 6,
          "value": 307,
          "variable": "sym"
         },
         {
          "time": 7,
          "value": 386,
          "variable": "sym"
         },
         {
          "time": 8,
          "value": 516,
          "variable": "sym"
         },
         {
          "time": 9,
          "value": 624,
          "variable": "sym"
         },
         {
          "time": 10,
          "value": 758,
          "variable": "sym"
         },
         {
          "time": 11,
          "value": 845,
          "variable": "sym"
         },
         {
          "time": 12,
          "value": 942,
          "variable": "sym"
         },
         {
          "time": 13,
          "value": 994,
          "variable": "sym"
         },
         {
          "time": 14,
          "value": 1063,
          "variable": "sym"
         },
         {
          "time": 15,
          "value": 1052,
          "variable": "sym"
         },
         {
          "time": 16,
          "value": 1045,
          "variable": "sym"
         },
         {
          "time": 17,
          "value": 985,
          "variable": "sym"
         },
         {
          "time": 18,
          "value": 961,
          "variable": "sym"
         },
         {
          "time": 19,
          "value": 871,
          "variable": "sym"
         },
         {
          "time": 20,
          "value": 802,
          "variable": "sym"
         },
         {
          "time": 21,
          "value": 693,
          "variable": "sym"
         },
         {
          "time": 22,
          "value": 593,
          "variable": "sym"
         },
         {
          "time": 23,
          "value": 541,
          "variable": "sym"
         },
         {
          "time": 24,
          "value": 504,
          "variable": "sym"
         },
         {
          "time": 25,
          "value": 439,
          "variable": "sym"
         },
         {
          "time": 26,
          "value": 372,
          "variable": "sym"
         },
         {
          "time": 27,
          "value": 312,
          "variable": "sym"
         },
         {
          "time": 28,
          "value": 259,
          "variable": "sym"
         },
         {
          "time": 29,
          "value": 198,
          "variable": "sym"
         },
         {
          "time": 30,
          "value": 156,
          "variable": "sym"
         },
         {
          "time": 31,
          "value": 140,
          "variable": "sym"
         },
         {
          "time": 32,
          "value": 112,
          "variable": "sym"
         },
         {
          "time": 33,
          "value": 87,
          "variable": "sym"
         },
         {
          "time": 34,
          "value": 79,
          "variable": "sym"
         },
         {
          "time": 35,
          "value": 63,
          "variable": "sym"
         },
         {
          "time": 36,
          "value": 55,
          "variable": "sym"
         },
         {
          "time": 37,
          "value": 46,
          "variable": "sym"
         },
         {
          "time": 38,
          "value": 43,
          "variable": "sym"
         },
         {
          "time": 39,
          "value": 33,
          "variable": "sym"
         },
         {
          "time": 40,
          "value": 24,
          "variable": "sym"
         },
         {
          "time": 41,
          "value": 23,
          "variable": "sym"
         },
         {
          "time": 42,
          "value": 19,
          "variable": "sym"
         },
         {
          "time": 43,
          "value": 16,
          "variable": "sym"
         },
         {
          "time": 44,
          "value": 13,
          "variable": "sym"
         },
         {
          "time": 45,
          "value": 18,
          "variable": "sym"
         },
         {
          "time": 46,
          "value": 17,
          "variable": "sym"
         },
         {
          "time": 47,
          "value": 13,
          "variable": "sym"
         },
         {
          "time": 48,
          "value": 15,
          "variable": "sym"
         },
         {
          "time": 49,
          "value": 18,
          "variable": "sym"
         },
         {
          "time": 50,
          "value": 16,
          "variable": "sym"
         },
         {
          "time": 51,
          "value": 14,
          "variable": "sym"
         },
         {
          "time": 52,
          "value": 12,
          "variable": "sym"
         },
         {
          "time": 53,
          "value": 9,
          "variable": "sym"
         },
         {
          "time": 54,
          "value": 7,
          "variable": "sym"
         },
         {
          "time": 55,
          "value": 8,
          "variable": "sym"
         },
         {
          "time": 56,
          "value": 6,
          "variable": "sym"
         },
         {
          "time": 57,
          "value": 7,
          "variable": "sym"
         },
         {
          "time": 58,
          "value": 6,
          "variable": "sym"
         },
         {
          "time": 59,
          "value": 6,
          "variable": "sym"
         },
         {
          "time": 60,
          "value": 6,
          "variable": "sym"
         },
         {
          "time": 61,
          "value": 3,
          "variable": "sym"
         },
         {
          "time": 62,
          "value": 2,
          "variable": "sym"
         },
         {
          "time": 63,
          "value": 1,
          "variable": "sym"
         },
         {
          "time": 64,
          "value": 1,
          "variable": "sym"
         },
         {
          "time": 65,
          "value": 2,
          "variable": "sym"
         },
         {
          "time": 66,
          "value": 1,
          "variable": "sym"
         },
         {
          "time": 67,
          "value": 1,
          "variable": "sym"
         },
         {
          "time": 68,
          "value": 4,
          "variable": "sym"
         },
         {
          "time": 69,
          "value": 1,
          "variable": "sym"
         },
         {
          "time": 70,
          "value": 1,
          "variable": "sym"
         },
         {
          "time": 71,
          "value": 1,
          "variable": "sym"
         },
         {
          "time": 72,
          "value": 2,
          "variable": "sym"
         },
         {
          "time": 73,
          "value": 2,
          "variable": "sym"
         },
         {
          "time": 74,
          "value": 2,
          "variable": "sym"
         },
         {
          "time": 75,
          "value": 2,
          "variable": "sym"
         },
         {
          "time": 76,
          "value": 2,
          "variable": "sym"
         },
         {
          "time": 77,
          "value": 2,
          "variable": "sym"
         },
         {
          "time": 78,
          "value": 0,
          "variable": "sym"
         },
         {
          "time": 79,
          "value": 0,
          "variable": "sym"
         },
         {
          "time": 80,
          "value": 0,
          "variable": "sym"
         },
         {
          "time": 81,
          "value": 1,
          "variable": "sym"
         },
         {
          "time": 82,
          "value": 1,
          "variable": "sym"
         },
         {
          "time": 83,
          "value": 1,
          "variable": "sym"
         },
         {
          "time": 84,
          "value": 0,
          "variable": "sym"
         },
         {
          "time": 85,
          "value": 0,
          "variable": "sym"
         },
         {
          "time": 86,
          "value": 1,
          "variable": "sym"
         },
         {
          "time": 87,
          "value": 1,
          "variable": "sym"
         },
         {
          "time": 88,
          "value": 1,
          "variable": "sym"
         },
         {
          "time": 89,
          "value": 0,
          "variable": "sym"
         },
         {
          "time": 90,
          "value": 1,
          "variable": "sym"
         },
         {
          "time": 91,
          "value": 2,
          "variable": "sym"
         },
         {
          "time": 92,
          "value": 2,
          "variable": "sym"
         },
         {
          "time": 93,
          "value": 3,
          "variable": "sym"
         },
         {
          "time": 94,
          "value": 1,
          "variable": "sym"
         },
         {
          "time": 95,
          "value": 1,
          "variable": "sym"
         },
         {
          "time": 96,
          "value": 1,
          "variable": "sym"
         },
         {
          "time": 97,
          "value": 0,
          "variable": "sym"
         },
         {
          "time": 98,
          "value": 0,
          "variable": "sym"
         },
         {
          "time": 99,
          "value": 0,
          "variable": "sym"
         },
         {
          "time": 100,
          "value": 0,
          "variable": "sym"
         },
         {
          "time": 0,
          "value": 0,
          "variable": "sev"
         },
         {
          "time": 1,
          "value": 0,
          "variable": "sev"
         },
         {
          "time": 2,
          "value": 0,
          "variable": "sev"
         },
         {
          "time": 3,
          "value": 1,
          "variable": "sev"
         },
         {
          "time": 4,
          "value": 12,
          "variable": "sev"
         },
         {
          "time": 5,
          "value": 26,
          "variable": "sev"
         },
         {
          "time": 6,
          "value": 69,
          "variable": "sev"
         },
         {
          "time": 7,
          "value": 105,
          "variable": "sev"
         },
         {
          "time": 8,
          "value": 133,
          "variable": "sev"
         },
         {
          "time": 9,
          "value": 192,
          "variable": "sev"
         },
         {
          "time": 10,
          "value": 240,
          "variable": "sev"
         },
         {
          "time": 11,
          "value": 305,
          "variable": "sev"
         },
         {
          "time": 12,
          "value": 370,
          "variable": "sev"
         },
         {
          "time": 13,
          "value": 461,
          "variable": "sev"
         },
         {
          "time": 14,
          "value": 501,
          "variable": "sev"
         },
         {
          "time": 15,
          "value": 571,
          "variable": "sev"
         },
         {
          "time": 16,
          "value": 602,
          "variable": "sev"
         },
         {
          "time": 17,
          "value": 650,
          "variable": "sev"
         },
         {
          "time": 18,
          "value": 655,
          "variable": "sev"
         },
         {
          "time": 19,
          "value": 680,
          "variable": "sev"
         },
         {
          "time": 20,
          "value": 678,
          "variable": "sev"
         },
         {
          "time": 21,
          "value": 659,
          "variable": "sev"
         },
         {
          "time": 22,
          "value": 616,
          "variable": "sev"
         },
         {
          "time": 23,
          "value": 535,
          "variable": "sev"
         },
         {
          "time": 24,
          "value": 473,
          "variable": "sev"
         },
         {
          "time": 25,
          "value": 436,
          "variable": "sev"
         },
         {
          "time": 26,
          "value": 392,
          "variable": "sev"
         },
         {
          "time": 27,
          "value": 343,
          "variable": "sev"
         },
         {
          "time": 28,
          "value": 295,
          "variable": "sev"
         },
         {
          "time": 29,
          "value": 277,
          "variable": "sev"
         },
         {
          "time": 30,
          "value": 243,
          "variable": "sev"
         },
         {
          "time": 31,
          "value": 204,
          "variable": "sev"
         },
         {
          "time": 32,
          "value": 174,
          "variable": "sev"
         },
         {
          "time": 33,
          "value": 139,
          "variable": "sev"
         },
         {
          "time": 34,
          "value": 101,
          "variable": "sev"
         },
         {
          "time": 35,
          "value": 90,
          "variable": "sev"
         },
         {
          "time": 36,
          "value": 73,
          "variable": "sev"
         },
         {
          "time": 37,
          "value": 67,
          "variable": "sev"
         },
         {
          "time": 38,
          "value": 63,
          "variable": "sev"
         },
         {
          "time": 39,
          "value": 45,
          "variable": "sev"
         },
         {
          "time": 40,
          "value": 39,
          "variable": "sev"
         },
         {
          "time": 41,
          "value": 32,
          "variable": "sev"
         },
         {
          "time": 42,
          "value": 27,
          "variable": "sev"
         },
         {
          "time": 43,
          "value": 28,
          "variable": "sev"
         },
         {
          "time": 44,
          "value": 22,
          "variable": "sev"
         },
         {
          "time": 45,
          "value": 14,
          "variable": "sev"
         },
         {
          "time": 46,
          "value": 11,
          "variable": "sev"
         },
         {
          "time": 47,
          "value": 10,
          "variable": "sev"
         },
         {
          "time": 48,
          "value": 8,
          "variable": "sev"
         },
         {
          "time": 49,
          "value": 8,
          "variable": "sev"
         },
         {
          "time": 50,
          "value": 10,
          "variable": "sev"
         },
         {
          "time": 51,
          "value": 9,
          "variable": "sev"
         },
         {
          "time": 52,
          "value": 9,
          "variable": "sev"
         },
         {
          "time": 53,
          "value": 11,
          "variable": "sev"
         },
         {
          "time": 54,
          "value": 13,
          "variable": "sev"
         },
         {
          "time": 55,
          "value": 8,
          "variable": "sev"
         },
         {
          "time": 56,
          "value": 7,
          "variable": "sev"
         },
         {
          "time": 57,
          "value": 4,
          "variable": "sev"
         },
         {
          "time": 58,
          "value": 5,
          "variable": "sev"
         },
         {
          "time": 59,
          "value": 6,
          "variable": "sev"
         },
         {
          "time": 60,
          "value": 4,
          "variable": "sev"
         },
         {
          "time": 61,
          "value": 7,
          "variable": "sev"
         },
         {
          "time": 62,
          "value": 2,
          "variable": "sev"
         },
         {
          "time": 63,
          "value": 2,
          "variable": "sev"
         },
         {
          "time": 64,
          "value": 3,
          "variable": "sev"
         },
         {
          "time": 65,
          "value": 1,
          "variable": "sev"
         },
         {
          "time": 66,
          "value": 1,
          "variable": "sev"
         },
         {
          "time": 67,
          "value": 1,
          "variable": "sev"
         },
         {
          "time": 68,
          "value": 1,
          "variable": "sev"
         },
         {
          "time": 69,
          "value": 2,
          "variable": "sev"
         },
         {
          "time": 70,
          "value": 1,
          "variable": "sev"
         },
         {
          "time": 71,
          "value": 2,
          "variable": "sev"
         },
         {
          "time": 72,
          "value": 1,
          "variable": "sev"
         },
         {
          "time": 73,
          "value": 1,
          "variable": "sev"
         },
         {
          "time": 74,
          "value": 1,
          "variable": "sev"
         },
         {
          "time": 75,
          "value": 1,
          "variable": "sev"
         },
         {
          "time": 76,
          "value": 1,
          "variable": "sev"
         },
         {
          "time": 77,
          "value": 1,
          "variable": "sev"
         },
         {
          "time": 78,
          "value": 2,
          "variable": "sev"
         },
         {
          "time": 79,
          "value": 1,
          "variable": "sev"
         },
         {
          "time": 80,
          "value": 1,
          "variable": "sev"
         },
         {
          "time": 81,
          "value": 1,
          "variable": "sev"
         },
         {
          "time": 82,
          "value": 1,
          "variable": "sev"
         },
         {
          "time": 83,
          "value": 0,
          "variable": "sev"
         },
         {
          "time": 84,
          "value": 0,
          "variable": "sev"
         },
         {
          "time": 85,
          "value": 0,
          "variable": "sev"
         },
         {
          "time": 86,
          "value": 0,
          "variable": "sev"
         },
         {
          "time": 87,
          "value": 0,
          "variable": "sev"
         },
         {
          "time": 88,
          "value": 0,
          "variable": "sev"
         },
         {
          "time": 89,
          "value": 1,
          "variable": "sev"
         },
         {
          "time": 90,
          "value": 1,
          "variable": "sev"
         },
         {
          "time": 91,
          "value": 1,
          "variable": "sev"
         },
         {
          "time": 92,
          "value": 1,
          "variable": "sev"
         },
         {
          "time": 93,
          "value": 1,
          "variable": "sev"
         },
         {
          "time": 94,
          "value": 3,
          "variable": "sev"
         },
         {
          "time": 95,
          "value": 3,
          "variable": "sev"
         },
         {
          "time": 96,
          "value": 2,
          "variable": "sev"
         },
         {
          "time": 97,
          "value": 2,
          "variable": "sev"
         },
         {
          "time": 98,
          "value": 2,
          "variable": "sev"
         },
         {
          "time": 99,
          "value": 1,
          "variable": "sev"
         },
         {
          "time": 100,
          "value": 0,
          "variable": "sev"
         },
         {
          "time": 0,
          "value": 0,
          "variable": "r"
         },
         {
          "time": 1,
          "value": 0,
          "variable": "r"
         },
         {
          "time": 2,
          "value": 36,
          "variable": "r"
         },
         {
          "time": 3,
          "value": 93,
          "variable": "r"
         },
         {
          "time": 4,
          "value": 181,
          "variable": "r"
         },
         {
          "time": 5,
          "value": 314,
          "variable": "r"
         },
         {
          "time": 6,
          "value": 486,
          "variable": "r"
         },
         {
          "time": 7,
          "value": 685,
          "variable": "r"
         },
         {
          "time": 8,
          "value": 939,
          "variable": "r"
         },
         {
          "time": 9,
          "value": 1225,
          "variable": "r"
         },
         {
          "time": 10,
          "value": 1573,
          "variable": "r"
         },
         {
          "time": 11,
          "value": 1961,
          "variable": "r"
         },
         {
          "time": 12,
          "value": 2309,
          "variable": "r"
         },
         {
          "time": 13,
          "value": 2720,
          "variable": "r"
         },
         {
          "time": 14,
          "value": 3148,
          "variable": "r"
         },
         {
          "time": 15,
          "value": 3608,
          "variable": "r"
         },
         {
          "time": 16,
          "value": 4013,
          "variable": "r"
         },
         {
          "time": 17,
          "value": 4396,
          "variable": "r"
         },
         {
          "time": 18,
          "value": 4725,
          "variable": "r"
         },
         {
          "time": 19,
          "value": 5094,
          "variable": "r"
         },
         {
          "time": 20,
          "value": 5417,
          "variable": "r"
         },
         {
          "time": 21,
          "value": 5689,
          "variable": "r"
         },
         {
          "time": 22,
          "value": 5942,
          "variable": "r"
         },
         {
          "time": 23,
          "value": 6175,
          "variable": "r"
         },
         {
          "time": 24,
          "value": 6338,
          "variable": "r"
         },
         {
          "time": 25,
          "value": 6505,
          "variable": "r"
         },
         {
          "time": 26,
          "value": 6653,
          "variable": "r"
         },
         {
          "time": 27,
          "value": 6775,
          "variable": "r"
         },
         {
          "time": 28,
          "value": 6866,
          "variable": "r"
         },
         {
          "time": 29,
          "value": 6974,
          "variable": "r"
         },
         {
          "time": 30,
          "value": 7046,
          "variable": "r"
         },
         {
          "time": 31,
          "value": 7106,
          "variable": "r"
         },
         {
          "time": 32,
          "value": 7148,
          "variable": "r"
         },
         {
          "time": 33,
          "value": 7190,
          "variable": "r"
         },
         {
          "time": 34,
          "value": 7219,
          "variable": "r"
         },
         {
          "time": 35,
          "value": 7245,
          "variable": "r"
         },
         {
          "time": 36,
          "value": 7269,
          "variable": "r"
         },
         {
          "time": 37,
          "value": 7289,
          "variable": "r"
         },
         {
          "time": 38,
          "value": 7310,
          "variable": "r"
         },
         {
          "time": 39,
          "value": 7330,
          "variable": "r"
         },
         {
          "time": 40,
          "value": 7345,
          "variable": "r"
         },
         {
          "time": 41,
          "value": 7353,
          "variable": "r"
         },
         {
          "time": 42,
          "value": 7366,
          "variable": "r"
         },
         {
          "time": 43,
          "value": 7371,
          "variable": "r"
         },
         {
          "time": 44,
          "value": 7380,
          "variable": "r"
         },
         {
          "time": 45,
          "value": 7387,
          "variable": "r"
         },
         {
          "time": 46,
          "value": 7393,
          "variable": "r"
         },
         {
          "time": 47,
          "value": 7400,
          "variable": "r"
         },
         {
          "time": 48,
          "value": 7405,
          "variable": "r"
         },
         {
          "time": 49,
          "value": 7413,
          "variable": "r"
         },
         {
          "time": 50,
          "value": 7415,
          "variable": "r"
         },
         {
          "time": 51,
          "value": 7423,
          "variable": "r"
         },
         {
          "time": 52,
          "value": 7429,
          "variable": "r"
         },
         {
          "time": 53,
          "value": 7430,
          "variable": "r"
         },
         {
          "time": 54,
          "value": 7432,
          "variable": "r"
         },
         {
          "time": 55,
          "value": 7438,
          "variable": "r"
         },
         {
          "time": 56,
          "value": 7440,
          "variable": "r"
         },
         {
          "time": 57,
          "value": 7442,
          "variable": "r"
         },
         {
          "time": 58,
          "value": 7444,
          "variable": "r"
         },
         {
          "time": 59,
          "value": 7445,
          "variable": "r"
         },
         {
          "time": 60,
          "value": 7445,
          "variable": "r"
         },
         {
          "time": 61,
          "value": 7448,
          "variable": "r"
         },
         {
          "time": 62,
          "value": 7451,
          "variable": "r"
         },
         {
          "time": 63,
          "value": 7453,
          "variable": "r"
         },
         {
          "time": 64,
          "value": 7453,
          "variable": "r"
         },
         {
          "time": 65,
          "value": 7456,
          "variable": "r"
         },
         {
          "time": 66,
          "value": 7457,
          "variable": "r"
         },
         {
          "time": 67,
          "value": 7457,
          "variable": "r"
         },
         {
          "time": 68,
          "value": 7457,
          "variable": "r"
         },
         {
          "time": 69,
          "value": 7460,
          "variable": "r"
         },
         {
          "time": 70,
          "value": 7462,
          "variable": "r"
         },
         {
          "time": 71,
          "value": 7462,
          "variable": "r"
         },
         {
          "time": 72,
          "value": 7463,
          "variable": "r"
         },
         {
          "time": 73,
          "value": 7463,
          "variable": "r"
         },
         {
          "time": 74,
          "value": 7463,
          "variable": "r"
         },
         {
          "time": 75,
          "value": 7463,
          "variable": "r"
         },
         {
          "time": 76,
          "value": 7463,
          "variable": "r"
         },
         {
          "time": 77,
          "value": 7465,
          "variable": "r"
         },
         {
          "time": 78,
          "value": 7467,
          "variable": "r"
         },
         {
          "time": 79,
          "value": 7468,
          "variable": "r"
         },
         {
          "time": 80,
          "value": 7468,
          "variable": "r"
         },
         {
          "time": 81,
          "value": 7468,
          "variable": "r"
         },
         {
          "time": 82,
          "value": 7469,
          "variable": "r"
         },
         {
          "time": 83,
          "value": 7469,
          "variable": "r"
         },
         {
          "time": 84,
          "value": 7470,
          "variable": "r"
         },
         {
          "time": 85,
          "value": 7471,
          "variable": "r"
         },
         {
          "time": 86,
          "value": 7471,
          "variable": "r"
         },
         {
          "time": 87,
          "value": 7472,
          "variable": "r"
         },
         {
          "time": 88,
          "value": 7472,
          "variable": "r"
         },
         {
          "time": 89,
          "value": 7472,
          "variable": "r"
         },
         {
          "time": 90,
          "value": 7472,
          "variable": "r"
         },
         {
          "time": 91,
          "value": 7472,
          "variable": "r"
         },
         {
          "time": 92,
          "value": 7472,
          "variable": "r"
         },
         {
          "time": 93,
          "value": 7472,
          "variable": "r"
         },
         {
          "time": 94,
          "value": 7472,
          "variable": "r"
         },
         {
          "time": 95,
          "value": 7472,
          "variable": "r"
         },
         {
          "time": 96,
          "value": 7473,
          "variable": "r"
         },
         {
          "time": 97,
          "value": 7473,
          "variable": "r"
         },
         {
          "time": 98,
          "value": 7473,
          "variable": "r"
         },
         {
          "time": 99,
          "value": 7473,
          "variable": "r"
         },
         {
          "time": 100,
          "value": 7473,
          "variable": "r"
         },
         {
          "time": 0,
          "value": 0,
          "variable": "d"
         },
         {
          "time": 1,
          "value": 0,
          "variable": "d"
         },
         {
          "time": 2,
          "value": 0,
          "variable": "d"
         },
         {
          "time": 3,
          "value": 0,
          "variable": "d"
         },
         {
          "time": 4,
          "value": 0,
          "variable": "d"
         },
         {
          "time": 5,
          "value": 2,
          "variable": "d"
         },
         {
          "time": 6,
          "value": 8,
          "variable": "d"
         },
         {
          "time": 7,
          "value": 15,
          "variable": "d"
         },
         {
          "time": 8,
          "value": 36,
          "variable": "d"
         },
         {
          "time": 9,
          "value": 59,
          "variable": "d"
         },
         {
          "time": 10,
          "value": 94,
          "variable": "d"
         },
         {
          "time": 11,
          "value": 139,
          "variable": "d"
         },
         {
          "time": 12,
          "value": 196,
          "variable": "d"
         },
         {
          "time": 13,
          "value": 264,
          "variable": "d"
         },
         {
          "time": 14,
          "value": 356,
          "variable": "d"
         },
         {
          "time": 15,
          "value": 454,
          "variable": "d"
         },
         {
          "time": 16,
          "value": 586,
          "variable": "d"
         },
         {
          "time": 17,
          "value": 708,
          "variable": "d"
         },
         {
          "time": 18,
          "value": 860,
          "variable": "d"
         },
         {
          "time": 19,
          "value": 982,
          "variable": "d"
         },
         {
          "time": 20,
          "value": 1122,
          "variable": "d"
         },
         {
          "time": 21,
          "value": 1266,
          "variable": "d"
         },
         {
          "time": 22,
          "value": 1408,
          "variable": "d"
         },
         {
          "time": 23,
          "value": 1546,
          "variable": "d"
         },
         {
          "time": 24,
          "value": 1665,
          "variable": "d"
         },
         {
          "time": 25,
          "value": 1772,
          "variable": "d"
         },
         {
          "time": 26,
          "value": 1872,
          "variable": "d"
         },
         {
          "time": 27,
          "value": 1958,
          "variable": "d"
         },
         {
          "time": 28,
          "value": 2062,
          "variable": "d"
         },
         {
          "time": 29,
          "value": 2116,
          "variable": "d"
         },
         {
          "time": 30,
          "value": 2175,
          "variable": "d"
         },
         {
          "time": 31,
          "value": 2224,
          "variable": "d"
         },
         {
          "time": 32,
          "value": 2275,
          "variable": "d"
         },
         {
          "time": 33,
          "value": 2321,
          "variable": "d"
         },
         {
          "time": 34,
          "value": 2358,
          "variable": "d"
         },
         {
          "time": 35,
          "value": 2378,
          "variable": "d"
         },
         {
          "time": 36,
          "value": 2398,
          "variable": "d"
         },
         {
          "time": 37,
          "value": 2410,
          "variable": "d"
         },
         {
          "time": 38,
          "value": 2419,
          "variable": "d"
         },
         {
          "time": 39,
          "value": 2440,
          "variable": "d"
         },
         {
          "time": 40,
          "value": 2451,
          "variable": "d"
         },
         {
          "time": 41,
          "value": 2460,
          "variable": "d"
         },
         {
          "time": 42,
          "value": 2466,
          "variable": "d"
         },
         {
          "time": 43,
          "value": 2469,
          "variable": "d"
         },
         {
          "time": 44,
          "value": 2479,
          "variable": "d"
         },
         {
          "time": 45,
          "value": 2486,
          "variable": "d"
         },
         {
          "time": 46,
          "value": 2489,
          "variable": "d"
         },
         {
          "time": 47,
          "value": 2491,
          "variable": "d"
         },
         {
          "time": 48,
          "value": 2493,
          "variable": "d"
         },
         {
          "time": 49,
          "value": 2493,
          "variable": "d"
         },
         {
          "time": 50,
          "value": 2494,
          "variable": "d"
         },
         {
          "time": 51,
          "value": 2494,
          "variable": "d"
         },
         {
          "time": 52,
          "value": 2497,
          "variable": "d"
         },
         {
          "time": 53,
          "value": 2499,
          "variable": "d"
         },
         {
          "time": 54,
          "value": 2500,
          "variable": "d"
         },
         {
          "time": 55,
          "value": 2504,
          "variable": "d"
         },
         {
          "time": 56,
          "value": 2507,
          "variable": "d"
         },
         {
          "time": 57,
          "value": 2508,
          "variable": "d"
         },
         {
          "time": 58,
          "value": 2508,
          "variable": "d"
         },
         {
          "time": 59,
          "value": 2510,
          "variable": "d"
         },
         {
          "time": 60,
          "value": 2513,
          "variable": "d"
         },
         {
          "time": 61,
          "value": 2513,
          "variable": "d"
         },
         {
          "time": 62,
          "value": 2517,
          "variable": "d"
         },
         {
          "time": 63,
          "value": 2518,
          "variable": "d"
         },
         {
          "time": 64,
          "value": 2518,
          "variable": "d"
         },
         {
          "time": 65,
          "value": 2520,
          "variable": "d"
         },
         {
          "time": 66,
          "value": 2520,
          "variable": "d"
         },
         {
          "time": 67,
          "value": 2520,
          "variable": "d"
         },
         {
          "time": 68,
          "value": 2520,
          "variable": "d"
         },
         {
          "time": 69,
          "value": 2520,
          "variable": "d"
         },
         {
          "time": 70,
          "value": 2520,
          "variable": "d"
         },
         {
          "time": 71,
          "value": 2520,
          "variable": "d"
         },
         {
          "time": 72,
          "value": 2521,
          "variable": "d"
         },
         {
          "time": 73,
          "value": 2521,
          "variable": "d"
         },
         {
          "time": 74,
          "value": 2521,
          "variable": "d"
         },
         {
          "time": 75,
          "value": 2521,
          "variable": "d"
         },
         {
          "time": 76,
          "value": 2521,
          "variable": "d"
         },
         {
          "time": 77,
          "value": 2521,
          "variable": "d"
         },
         {
          "time": 78,
          "value": 2521,
          "variable": "d"
         },
         {
          "time": 79,
          "value": 2521,
          "variable": "d"
         },
         {
          "time": 80,
          "value": 2521,
          "variable": "d"
         },
         {
          "time": 81,
          "value": 2521,
          "variable": "d"
         },
         {
          "time": 82,
          "value": 2521,
          "variable": "d"
         },
         {
          "time": 83,
          "value": 2522,
          "variable": "d"
         },
         {
          "time": 84,
          "value": 2522,
          "variable": "d"
         },
         {
          "time": 85,
          "value": 2522,
          "variable": "d"
         },
         {
          "time": 86,
          "value": 2522,
          "variable": "d"
         },
         {
          "time": 87,
          "value": 2522,
          "variable": "d"
         },
         {
          "time": 88,
          "value": 2522,
          "variable": "d"
         },
         {
          "time": 89,
          "value": 2522,
          "variable": "d"
         },
         {
          "time": 90,
          "value": 2522,
          "variable": "d"
         },
         {
          "time": 91,
          "value": 2522,
          "variable": "d"
         },
         {
          "time": 92,
          "value": 2522,
          "variable": "d"
         },
         {
          "time": 93,
          "value": 2522,
          "variable": "d"
         },
         {
          "time": 94,
          "value": 2522,
          "variable": "d"
         },
         {
          "time": 95,
          "value": 2522,
          "variable": "d"
         },
         {
          "time": 96,
          "value": 2522,
          "variable": "d"
         },
         {
          "time": 97,
          "value": 2523,
          "variable": "d"
         },
         {
          "time": 98,
          "value": 2523,
          "variable": "d"
         },
         {
          "time": 99,
          "value": 2524,
          "variable": "d"
         },
         {
          "time": 100,
          "value": 2525,
          "variable": "d"
         }
        ]
       },
       "encoding": {
        "color": {
         "field": "value",
         "scale": {
          "scheme": "yelloworangebrown"
         },
         "type": "quantitative"
        },
        "x": {
         "field": "time",
         "type": "ordinal"
        },
        "y": {
         "field": "variable",
         "type": "nominal"
        }
       },
       "mark": "rect",
       "title": "Compartment Values Over Time",
       "width": 850
      },
      "image/png": "[encoded data removed]",
      "text/plain": [
       "<VegaLite 3 object>\n",
       "\n",
       "If you see this message, it means the renderer has not been properly enabled\n",
       "for the frontend that you are using. For more information, see\n",
       "https://altair-viz.github.io/user_guide/troubleshooting.html\n"
      ]
     },
     "execution_count": 228,
     "metadata": {},
     "output_type": "execute_result"
    }
   ],
   "source": [
    "alt.Chart(\n",
    "    c_melted,\n",
    "    title=\"Compartment Values Over Time\"\n",
    ").mark_rect().encode(\n",
    "    x='time:O',\n",
    "    y='variable:N',\n",
    "    color=alt.Color('value:Q', scale=alt.Scale( scheme='yelloworangebrown'))\n",
    ").properties(width=850)"
   ]
  },
  {
   "cell_type": "code",
   "execution_count": 231,
   "metadata": {},
   "outputs": [
    {
     "data": {
      "application/vnd.vegalite.v3+json": {
       "$schema": "https://vega.github.io/schema/vega-lite/v3.4.0.json",
       "config": {
        "mark": {
         "tooltip": null
        },
        "view": {
         "height": 300,
         "width": 400
        }
       },
       "data": {
        "name": "data-c5829504313b12cbf75b884f0e06a256"
       },
       "datasets": {
        "data-c5829504313b12cbf75b884f0e06a256": [
         {
          "time": 0,
          "value": 9000,
          "variable": "s"
         },
         {
          "time": 1,
          "value": 8553,
          "variable": "s"
         },
         {
          "time": 2,
          "value": 8134,
          "variable": "s"
         },
         {
          "time": 3,
          "value": 7580,
          "variable": "s"
         },
         {
          "time": 4,
          "value": 6929,
          "variable": "s"
         },
         {
          "time": 5,
          "value": 6175,
          "variable": "s"
         },
         {
          "time": 6,
          "value": 5599,
          "variable": "s"
         },
         {
          "time": 7,
          "value": 5014,
          "variable": "s"
         },
         {
          "time": 8,
          "value": 4246,
          "variable": "s"
         },
         {
          "time": 9,
          "value": 3540,
          "variable": "s"
         },
         {
          "time": 10,
          "value": 2964,
          "variable": "s"
         },
         {
          "time": 11,
          "value": 2464,
          "variable": "s"
         },
         {
          "time": 12,
          "value": 2050,
          "variable": "s"
         },
         {
          "time": 13,
          "value": 1748,
          "variable": "s"
         },
         {
          "time": 14,
          "value": 1479,
          "variable": "s"
         },
         {
          "time": 15,
          "value": 1214,
          "variable": "s"
         },
         {
          "time": 16,
          "value": 990,
          "variable": "s"
         },
         {
          "time": 17,
          "value": 833,
          "variable": "s"
         },
         {
          "time": 18,
          "value": 709,
          "variable": "s"
         },
         {
          "time": 19,
          "value": 597,
          "variable": "s"
         },
         {
          "time": 20,
          "value": 528,
          "variable": "s"
         },
         {
          "time": 21,
          "value": 456,
          "variable": "s"
         },
         {
          "time": 22,
          "value": 390,
          "variable": "s"
         },
         {
          "time": 23,
          "value": 334,
          "variable": "s"
         },
         {
          "time": 24,
          "value": 308,
          "variable": "s"
         },
         {
          "time": 25,
          "value": 272,
          "variable": "s"
         },
         {
          "time": 26,
          "value": 237,
          "variable": "s"
         },
         {
          "time": 27,
          "value": 222,
          "variable": "s"
         },
         {
          "time": 28,
          "value": 201,
          "variable": "s"
         },
         {
          "time": 29,
          "value": 188,
          "variable": "s"
         },
         {
          "time": 30,
          "value": 178,
          "variable": "s"
         },
         {
          "time": 31,
          "value": 165,
          "variable": "s"
         },
         {
          "time": 32,
          "value": 149,
          "variable": "s"
         },
         {
          "time": 33,
          "value": 134,
          "variable": "s"
         },
         {
          "time": 34,
          "value": 131,
          "variable": "s"
         },
         {
          "time": 35,
          "value": 122,
          "variable": "s"
         },
         {
          "time": 36,
          "value": 108,
          "variable": "s"
         },
         {
          "time": 37,
          "value": 106,
          "variable": "s"
         },
         {
          "time": 38,
          "value": 100,
          "variable": "s"
         },
         {
          "time": 39,
          "value": 90,
          "variable": "s"
         },
         {
          "time": 40,
          "value": 81,
          "variable": "s"
         },
         {
          "time": 41,
          "value": 75,
          "variable": "s"
         },
         {
          "time": 42,
          "value": 71,
          "variable": "s"
         },
         {
          "time": 43,
          "value": 63,
          "variable": "s"
         },
         {
          "time": 44,
          "value": 58,
          "variable": "s"
         },
         {
          "time": 45,
          "value": 53,
          "variable": "s"
         },
         {
          "time": 46,
          "value": 49,
          "variable": "s"
         },
         {
          "time": 47,
          "value": 42,
          "variable": "s"
         },
         {
          "time": 48,
          "value": 42,
          "variable": "s"
         },
         {
          "time": 49,
          "value": 40,
          "variable": "s"
         },
         {
          "time": 50,
          "value": 36,
          "variable": "s"
         },
         {
          "time": 51,
          "value": 34,
          "variable": "s"
         },
         {
          "time": 52,
          "value": 30,
          "variable": "s"
         },
         {
          "time": 53,
          "value": 27,
          "variable": "s"
         },
         {
          "time": 54,
          "value": 26,
          "variable": "s"
         },
         {
          "time": 55,
          "value": 25,
          "variable": "s"
         },
         {
          "time": 56,
          "value": 24,
          "variable": "s"
         },
         {
          "time": 57,
          "value": 23,
          "variable": "s"
         },
         {
          "time": 58,
          "value": 23,
          "variable": "s"
         },
         {
          "time": 59,
          "value": 21,
          "variable": "s"
         },
         {
          "time": 60,
          "value": 20,
          "variable": "s"
         },
         {
          "time": 61,
          "value": 18,
          "variable": "s"
         },
         {
          "time": 62,
          "value": 16,
          "variable": "s"
         },
         {
          "time": 63,
          "value": 15,
          "variable": "s"
         },
         {
          "time": 64,
          "value": 15,
          "variable": "s"
         },
         {
          "time": 65,
          "value": 13,
          "variable": "s"
         },
         {
          "time": 66,
          "value": 12,
          "variable": "s"
         },
         {
          "time": 67,
          "value": 12,
          "variable": "s"
         },
         {
          "time": 68,
          "value": 12,
          "variable": "s"
         },
         {
          "time": 69,
          "value": 12,
          "variable": "s"
         },
         {
          "time": 70,
          "value": 11,
          "variable": "s"
         },
         {
          "time": 71,
          "value": 10,
          "variable": "s"
         },
         {
          "time": 72,
          "value": 10,
          "variable": "s"
         },
         {
          "time": 73,
          "value": 9,
          "variable": "s"
         },
         {
          "time": 74,
          "value": 8,
          "variable": "s"
         },
         {
          "time": 75,
          "value": 8,
          "variable": "s"
         },
         {
          "time": 76,
          "value": 8,
          "variable": "s"
         },
         {
          "time": 77,
          "value": 8,
          "variable": "s"
         },
         {
          "time": 78,
          "value": 8,
          "variable": "s"
         },
         {
          "time": 79,
          "value": 7,
          "variable": "s"
         },
         {
          "time": 80,
          "value": 7,
          "variable": "s"
         },
         {
          "time": 81,
          "value": 7,
          "variable": "s"
         },
         {
          "time": 82,
          "value": 6,
          "variable": "s"
         },
         {
          "time": 83,
          "value": 6,
          "variable": "s"
         },
         {
          "time": 84,
          "value": 5,
          "variable": "s"
         },
         {
          "time": 85,
          "value": 3,
          "variable": "s"
         },
         {
          "time": 86,
          "value": 3,
          "variable": "s"
         },
         {
          "time": 87,
          "value": 2,
          "variable": "s"
         },
         {
          "time": 88,
          "value": 2,
          "variable": "s"
         },
         {
          "time": 89,
          "value": 2,
          "variable": "s"
         },
         {
          "time": 90,
          "value": 2,
          "variable": "s"
         },
         {
          "time": 91,
          "value": 2,
          "variable": "s"
         },
         {
          "time": 92,
          "value": 2,
          "variable": "s"
         },
         {
          "time": 93,
          "value": 2,
          "variable": "s"
         },
         {
          "time": 94,
          "value": 2,
          "variable": "s"
         },
         {
          "time": 95,
          "value": 2,
          "variable": "s"
         },
         {
          "time": 96,
          "value": 2,
          "variable": "s"
         },
         {
          "time": 97,
          "value": 2,
          "variable": "s"
         },
         {
          "time": 98,
          "value": 2,
          "variable": "s"
         },
         {
          "time": 99,
          "value": 2,
          "variable": "s"
         },
         {
          "time": 100,
          "value": 2,
          "variable": "s"
         },
         {
          "time": 0,
          "value": 1000,
          "variable": "e"
         },
         {
          "time": 1,
          "value": 1196,
          "variable": "e"
         },
         {
          "time": 2,
          "value": 1304,
          "variable": "e"
         },
         {
          "time": 3,
          "value": 1557,
          "variable": "e"
         },
         {
          "time": 4,
          "value": 1801,
          "variable": "e"
         },
         {
          "time": 5,
          "value": 2112,
          "variable": "e"
         },
         {
          "time": 6,
          "value": 2171,
          "variable": "e"
         },
         {
          "time": 7,
          "value": 2138,
          "variable": "e"
         },
         {
          "time": 8,
          "value": 2316,
          "variable": "e"
         },
         {
          "time": 9,
          "value": 2359,
          "variable": "e"
         },
         {
          "time": 10,
          "value": 2312,
          "variable": "e"
         },
         {
          "time": 11,
          "value": 2116,
          "variable": "e"
         },
         {
          "time": 12,
          "value": 1909,
          "variable": "e"
         },
         {
          "time": 13,
          "value": 1657,
          "variable": "e"
         },
         {
          "time": 14,
          "value": 1421,
          "variable": "e"
         },
         {
          "time": 15,
          "value": 1223,
          "variable": "e"
         },
         {
          "time": 16,
          "value": 1059,
          "variable": "e"
         },
         {
          "time": 17,
          "value": 901,
          "variable": "e"
         },
         {
          "time": 18,
          "value": 735,
          "variable": "e"
         },
         {
          "time": 19,
          "value": 607,
          "variable": "e"
         },
         {
          "time": 20,
          "value": 492,
          "variable": "e"
         },
         {
          "time": 21,
          "value": 391,
          "variable": "e"
         },
         {
          "time": 22,
          "value": 321,
          "variable": "e"
         },
         {
          "time": 23,
          "value": 273,
          "variable": "e"
         },
         {
          "time": 24,
          "value": 202,
          "variable": "e"
         },
         {
          "time": 25,
          "value": 163,
          "variable": "e"
         },
         {
          "time": 26,
          "value": 137,
          "variable": "e"
         },
         {
          "time": 27,
          "value": 113,
          "variable": "e"
         },
         {
          "time": 28,
          "value": 89,
          "variable": "e"
         },
         {
          "time": 29,
          "value": 73,
          "variable": "e"
         },
         {
          "time": 30,
          "value": 61,
          "variable": "e"
         },
         {
          "time": 31,
          "value": 58,
          "variable": "e"
         },
         {
          "time": 32,
          "value": 56,
          "variable": "e"
         },
         {
          "time": 33,
          "value": 50,
          "variable": "e"
         },
         {
          "time": 34,
          "value": 43,
          "variable": "e"
         },
         {
          "time": 35,
          "value": 39,
          "variable": "e"
         },
         {
          "time": 36,
          "value": 38,
          "variable": "e"
         },
         {
          "time": 37,
          "value": 27,
          "variable": "e"
         },
         {
          "time": 38,
          "value": 24,
          "variable": "e"
         },
         {
          "time": 39,
          "value": 26,
          "variable": "e"
         },
         {
          "time": 40,
          "value": 29,
          "variable": "e"
         },
         {
          "time": 41,
          "value": 24,
          "variable": "e"
         },
         {
          "time": 42,
          "value": 21,
          "variable": "e"
         },
         {
          "time": 43,
          "value": 27,
          "variable": "e"
         },
         {
          "time": 44,
          "value": 22,
          "variable": "e"
         },
         {
          "time": 45,
          "value": 22,
          "variable": "e"
         },
         {
          "time": 46,
          "value": 23,
          "variable": "e"
         },
         {
          "time": 47,
          "value": 19,
          "variable": "e"
         },
         {
          "time": 48,
          "value": 13,
          "variable": "e"
         },
         {
          "time": 49,
          "value": 12,
          "variable": "e"
         },
         {
          "time": 50,
          "value": 14,
          "variable": "e"
         },
         {
          "time": 51,
          "value": 10,
          "variable": "e"
         },
         {
          "time": 52,
          "value": 11,
          "variable": "e"
         },
         {
          "time": 53,
          "value": 12,
          "variable": "e"
         },
         {
          "time": 54,
          "value": 10,
          "variable": "e"
         },
         {
          "time": 55,
          "value": 8,
          "variable": "e"
         },
         {
          "time": 56,
          "value": 7,
          "variable": "e"
         },
         {
          "time": 57,
          "value": 7,
          "variable": "e"
         },
         {
          "time": 58,
          "value": 5,
          "variable": "e"
         },
         {
          "time": 59,
          "value": 6,
          "variable": "e"
         },
         {
          "time": 60,
          "value": 4,
          "variable": "e"
         },
         {
          "time": 61,
          "value": 5,
          "variable": "e"
         },
         {
          "time": 62,
          "value": 7,
          "variable": "e"
         },
         {
          "time": 63,
          "value": 5,
          "variable": "e"
         },
         {
          "time": 64,
          "value": 4,
          "variable": "e"
         },
         {
          "time": 65,
          "value": 3,
          "variable": "e"
         },
         {
          "time": 66,
          "value": 4,
          "variable": "e"
         },
         {
          "time": 67,
          "value": 2,
          "variable": "e"
         },
         {
          "time": 68,
          "value": 2,
          "variable": "e"
         },
         {
          "time": 69,
          "value": 1,
          "variable": "e"
         },
         {
          "time": 70,
          "value": 2,
          "variable": "e"
         },
         {
          "time": 71,
          "value": 2,
          "variable": "e"
         },
         {
          "time": 72,
          "value": 2,
          "variable": "e"
         },
         {
          "time": 73,
          "value": 3,
          "variable": "e"
         },
         {
          "time": 74,
          "value": 4,
          "variable": "e"
         },
         {
          "time": 75,
          "value": 4,
          "variable": "e"
         },
         {
          "time": 76,
          "value": 1,
          "variable": "e"
         },
         {
          "time": 77,
          "value": 1,
          "variable": "e"
         },
         {
          "time": 78,
          "value": 0,
          "variable": "e"
         },
         {
          "time": 79,
          "value": 1,
          "variable": "e"
         },
         {
          "time": 80,
          "value": 1,
          "variable": "e"
         },
         {
          "time": 81,
          "value": 0,
          "variable": "e"
         },
         {
          "time": 82,
          "value": 1,
          "variable": "e"
         },
         {
          "time": 83,
          "value": 0,
          "variable": "e"
         },
         {
          "time": 84,
          "value": 1,
          "variable": "e"
         },
         {
          "time": 85,
          "value": 2,
          "variable": "e"
         },
         {
          "time": 86,
          "value": 0,
          "variable": "e"
         },
         {
          "time": 87,
          "value": 1,
          "variable": "e"
         },
         {
          "time": 88,
          "value": 1,
          "variable": "e"
         },
         {
          "time": 89,
          "value": 1,
          "variable": "e"
         },
         {
          "time": 90,
          "value": 0,
          "variable": "e"
         },
         {
          "time": 91,
          "value": 0,
          "variable": "e"
         },
         {
          "time": 92,
          "value": 0,
          "variable": "e"
         },
         {
          "time": 93,
          "value": 0,
          "variable": "e"
         },
         {
          "time": 94,
          "value": 0,
          "variable": "e"
         },
         {
          "time": 95,
          "value": 0,
          "variable": "e"
         },
         {
          "time": 96,
          "value": 0,
          "variable": "e"
         },
         {
          "time": 97,
          "value": 0,
          "variable": "e"
         },
         {
          "time": 98,
          "value": 0,
          "variable": "e"
         },
         {
          "time": 99,
          "value": 0,
          "variable": "e"
         },
         {
          "time": 100,
          "value": 0,
          "variable": "e"
         },
         {
          "time": 0,
          "value": 0,
          "variable": "a"
         },
         {
          "time": 1,
          "value": 132,
          "variable": "a"
         },
         {
          "time": 2,
          "value": 253,
          "variable": "a"
         },
         {
          "time": 3,
          "value": 358,
          "variable": "a"
         },
         {
          "time": 4,
          "value": 483,
          "variable": "a"
         },
         {
          "time": 5,
          "value": 594,
          "variable": "a"
         },
         {
          "time": 6,
          "value": 698,
          "variable": "a"
         },
         {
          "time": 7,
          "value": 834,
          "variable": "a"
         },
         {
          "time": 8,
          "value": 921,
          "variable": "a"
         },
         {
          "time": 9,
          "value": 1018,
          "variable": "a"
         },
         {
          "time": 10,
          "value": 1005,
          "variable": "a"
         },
         {
          "time": 11,
          "value": 1032,
          "variable": "a"
         },
         {
          "time": 12,
          "value": 1081,
          "variable": "a"
         },
         {
          "time": 13,
          "value": 1047,
          "variable": "a"
         },
         {
          "time": 14,
          "value": 1009,
          "variable": "a"
         },
         {
          "time": 15,
          "value": 901,
          "variable": "a"
         },
         {
          "time": 16,
          "value": 820,
          "variable": "a"
         },
         {
          "time": 17,
          "value": 745,
          "variable": "a"
         },
         {
          "time": 18,
          "value": 685,
          "variable": "a"
         },
         {
          "time": 19,
          "value": 575,
          "variable": "a"
         },
         {
          "time": 20,
          "value": 466,
          "variable": "a"
         },
         {
          "time": 21,
          "value": 404,
          "variable": "a"
         },
         {
          "time": 22,
          "value": 340,
          "variable": "a"
         },
         {
          "time": 23,
          "value": 270,
          "variable": "a"
         },
         {
          "time": 24,
          "value": 247,
          "variable": "a"
         },
         {
          "time": 25,
          "value": 196,
          "variable": "a"
         },
         {
          "time": 26,
          "value": 163,
          "variable": "a"
         },
         {
          "time": 27,
          "value": 128,
          "variable": "a"
         },
         {
          "time": 28,
          "value": 105,
          "variable": "a"
         },
         {
          "time": 29,
          "value": 72,
          "variable": "a"
         },
         {
          "time": 30,
          "value": 58,
          "variable": "a"
         },
         {
          "time": 31,
          "value": 39,
          "variable": "a"
         },
         {
          "time": 32,
          "value": 35,
          "variable": "a"
         },
         {
          "time": 33,
          "value": 32,
          "variable": "a"
         },
         {
          "time": 34,
          "value": 31,
          "variable": "a"
         },
         {
          "time": 35,
          "value": 32,
          "variable": "a"
         },
         {
          "time": 36,
          "value": 30,
          "variable": "a"
         },
         {
          "time": 37,
          "value": 28,
          "variable": "a"
         },
         {
          "time": 38,
          "value": 24,
          "variable": "a"
         },
         {
          "time": 39,
          "value": 18,
          "variable": "a"
         },
         {
          "time": 40,
          "value": 15,
          "variable": "a"
         },
         {
          "time": 41,
          "value": 17,
          "variable": "a"
         },
         {
          "time": 42,
          "value": 15,
          "variable": "a"
         },
         {
          "time": 43,
          "value": 14,
          "variable": "a"
         },
         {
          "time": 44,
          "value": 15,
          "variable": "a"
         },
         {
          "time": 45,
          "value": 12,
          "variable": "a"
         },
         {
          "time": 46,
          "value": 11,
          "variable": "a"
         },
         {
          "time": 47,
          "value": 13,
          "variable": "a"
         },
         {
          "time": 48,
          "value": 13,
          "variable": "a"
         },
         {
          "time": 49,
          "value": 8,
          "variable": "a"
         },
         {
          "time": 50,
          "value": 9,
          "variable": "a"
         },
         {
          "time": 51,
          "value": 8,
          "variable": "a"
         },
         {
          "time": 52,
          "value": 6,
          "variable": "a"
         },
         {
          "time": 53,
          "value": 6,
          "variable": "a"
         },
         {
          "time": 54,
          "value": 6,
          "variable": "a"
         },
         {
          "time": 55,
          "value": 3,
          "variable": "a"
         },
         {
          "time": 56,
          "value": 2,
          "variable": "a"
         },
         {
          "time": 57,
          "value": 3,
          "variable": "a"
         },
         {
          "time": 58,
          "value": 3,
          "variable": "a"
         },
         {
          "time": 59,
          "value": 4,
          "variable": "a"
         },
         {
          "time": 60,
          "value": 7,
          "variable": "a"
         },
         {
          "time": 61,
          "value": 5,
          "variable": "a"
         },
         {
          "time": 62,
          "value": 4,
          "variable": "a"
         },
         {
          "time": 63,
          "value": 4,
          "variable": "a"
         },
         {
          "time": 64,
          "value": 4,
          "variable": "a"
         },
         {
          "time": 65,
          "value": 2,
          "variable": "a"
         },
         {
          "time": 66,
          "value": 2,
          "variable": "a"
         },
         {
          "time": 67,
          "value": 2,
          "variable": "a"
         },
         {
          "time": 68,
          "value": 2,
          "variable": "a"
         },
         {
          "time": 69,
          "value": 1,
          "variable": "a"
         },
         {
          "time": 70,
          "value": 0,
          "variable": "a"
         },
         {
          "time": 71,
          "value": 1,
          "variable": "a"
         },
         {
          "time": 72,
          "value": 1,
          "variable": "a"
         },
         {
          "time": 73,
          "value": 1,
          "variable": "a"
         },
         {
          "time": 74,
          "value": 1,
          "variable": "a"
         },
         {
          "time": 75,
          "value": 1,
          "variable": "a"
         },
         {
          "time": 76,
          "value": 3,
          "variable": "a"
         },
         {
          "time": 77,
          "value": 1,
          "variable": "a"
         },
         {
          "time": 78,
          "value": 1,
          "variable": "a"
         },
         {
          "time": 79,
          "value": 1,
          "variable": "a"
         },
         {
          "time": 80,
          "value": 1,
          "variable": "a"
         },
         {
          "time": 81,
          "value": 1,
          "variable": "a"
         },
         {
          "time": 82,
          "value": 1,
          "variable": "a"
         },
         {
          "time": 83,
          "value": 1,
          "variable": "a"
         },
         {
          "time": 84,
          "value": 1,
          "variable": "a"
         },
         {
          "time": 85,
          "value": 0,
          "variable": "a"
         },
         {
          "time": 86,
          "value": 0,
          "variable": "a"
         },
         {
          "time": 87,
          "value": 0,
          "variable": "a"
         },
         {
          "time": 88,
          "value": 0,
          "variable": "a"
         },
         {
          "time": 89,
          "value": 0,
          "variable": "a"
         },
         {
          "time": 90,
          "value": 0,
          "variable": "a"
         },
         {
          "time": 91,
          "value": 0,
          "variable": "a"
         },
         {
          "time": 92,
          "value": 0,
          "variable": "a"
         },
         {
          "time": 93,
          "value": 0,
          "variable": "a"
         },
         {
          "time": 94,
          "value": 0,
          "variable": "a"
         },
         {
          "time": 95,
          "value": 0,
          "variable": "a"
         },
         {
          "time": 96,
          "value": 0,
          "variable": "a"
         },
         {
          "time": 97,
          "value": 0,
          "variable": "a"
         },
         {
          "time": 98,
          "value": 0,
          "variable": "a"
         },
         {
          "time": 99,
          "value": 0,
          "variable": "a"
         },
         {
          "time": 100,
          "value": 0,
          "variable": "a"
         },
         {
          "time": 0,
          "value": 0,
          "variable": "p"
         },
         {
          "time": 1,
          "value": 119,
          "variable": "p"
         },
         {
          "time": 2,
          "value": 238,
          "variable": "p"
         },
         {
          "time": 3,
          "value": 326,
          "variable": "p"
         },
         {
          "time": 4,
          "value": 449,
          "variable": "p"
         },
         {
          "time": 5,
          "value": 548,
          "variable": "p"
         },
         {
          "time": 6,
          "value": 662,
          "variable": "p"
         },
         {
          "time": 7,
          "value": 823,
          "variable": "p"
         },
         {
          "time": 8,
          "value": 893,
          "variable": "p"
         },
         {
          "time": 9,
          "value": 983,
          "variable": "p"
         },
         {
          "time": 10,
          "value": 1054,
          "variable": "p"
         },
         {
          "time": 11,
          "value": 1138,
          "variable": "p"
         },
         {
          "time": 12,
          "value": 1143,
          "variable": "p"
         },
         {
          "time": 13,
          "value": 1109,
          "variable": "p"
         },
         {
          "time": 14,
          "value": 1023,
          "variable": "p"
         },
         {
          "time": 15,
          "value": 977,
          "variable": "p"
         },
         {
          "time": 16,
          "value": 885,
          "variable": "p"
         },
         {
          "time": 17,
          "value": 782,
          "variable": "p"
         },
         {
          "time": 18,
          "value": 670,
          "variable": "p"
         },
         {
          "time": 19,
          "value": 594,
          "variable": "p"
         },
         {
          "time": 20,
          "value": 495,
          "variable": "p"
         },
         {
          "time": 21,
          "value": 442,
          "variable": "p"
         },
         {
          "time": 22,
          "value": 390,
          "variable": "p"
         },
         {
          "time": 23,
          "value": 326,
          "variable": "p"
         },
         {
          "time": 24,
          "value": 263,
          "variable": "p"
         },
         {
          "time": 25,
          "value": 217,
          "variable": "p"
         },
         {
          "time": 26,
          "value": 174,
          "variable": "p"
         },
         {
          "time": 27,
          "value": 149,
          "variable": "p"
         },
         {
          "time": 28,
          "value": 123,
          "variable": "p"
         },
         {
          "time": 29,
          "value": 102,
          "variable": "p"
         },
         {
          "time": 30,
          "value": 83,
          "variable": "p"
         },
         {
          "time": 31,
          "value": 64,
          "variable": "p"
         },
         {
          "time": 32,
          "value": 51,
          "variable": "p"
         },
         {
          "time": 33,
          "value": 47,
          "variable": "p"
         },
         {
          "time": 34,
          "value": 38,
          "variable": "p"
         },
         {
          "time": 35,
          "value": 31,
          "variable": "p"
         },
         {
          "time": 36,
          "value": 29,
          "variable": "p"
         },
         {
          "time": 37,
          "value": 27,
          "variable": "p"
         },
         {
          "time": 38,
          "value": 17,
          "variable": "p"
         },
         {
          "time": 39,
          "value": 18,
          "variable": "p"
         },
         {
          "time": 40,
          "value": 16,
          "variable": "p"
         },
         {
          "time": 41,
          "value": 16,
          "variable": "p"
         },
         {
          "time": 42,
          "value": 15,
          "variable": "p"
         },
         {
          "time": 43,
          "value": 12,
          "variable": "p"
         },
         {
          "time": 44,
          "value": 11,
          "variable": "p"
         },
         {
          "time": 45,
          "value": 8,
          "variable": "p"
         },
         {
          "time": 46,
          "value": 7,
          "variable": "p"
         },
         {
          "time": 47,
          "value": 12,
          "variable": "p"
         },
         {
          "time": 48,
          "value": 11,
          "variable": "p"
         },
         {
          "time": 49,
          "value": 8,
          "variable": "p"
         },
         {
          "time": 50,
          "value": 6,
          "variable": "p"
         },
         {
          "time": 51,
          "value": 8,
          "variable": "p"
         },
         {
          "time": 52,
          "value": 6,
          "variable": "p"
         },
         {
          "time": 53,
          "value": 6,
          "variable": "p"
         },
         {
          "time": 54,
          "value": 6,
          "variable": "p"
         },
         {
          "time": 55,
          "value": 6,
          "variable": "p"
         },
         {
          "time": 56,
          "value": 7,
          "variable": "p"
         },
         {
          "time": 57,
          "value": 6,
          "variable": "p"
         },
         {
          "time": 58,
          "value": 6,
          "variable": "p"
         },
         {
          "time": 59,
          "value": 2,
          "variable": "p"
         },
         {
          "time": 60,
          "value": 1,
          "variable": "p"
         },
         {
          "time": 61,
          "value": 1,
          "variable": "p"
         },
         {
          "time": 62,
          "value": 1,
          "variable": "p"
         },
         {
          "time": 63,
          "value": 2,
          "variable": "p"
         },
         {
          "time": 64,
          "value": 2,
          "variable": "p"
         },
         {
          "time": 65,
          "value": 3,
          "variable": "p"
         },
         {
          "time": 66,
          "value": 3,
          "variable": "p"
         },
         {
          "time": 67,
          "value": 5,
          "variable": "p"
         },
         {
          "time": 68,
          "value": 2,
          "variable": "p"
         },
         {
          "time": 69,
          "value": 3,
          "variable": "p"
         },
         {
          "time": 70,
          "value": 3,
          "variable": "p"
         },
         {
          "time": 71,
          "value": 2,
          "variable": "p"
         },
         {
          "time": 72,
          "value": 0,
          "variable": "p"
         },
         {
          "time": 73,
          "value": 0,
          "variable": "p"
         },
         {
          "time": 74,
          "value": 0,
          "variable": "p"
         },
         {
          "time": 75,
          "value": 0,
          "variable": "p"
         },
         {
          "time": 76,
          "value": 1,
          "variable": "p"
         },
         {
          "time": 77,
          "value": 1,
          "variable": "p"
         },
         {
          "time": 78,
          "value": 1,
          "variable": "p"
         },
         {
          "time": 79,
          "value": 1,
          "variable": "p"
         },
         {
          "time": 80,
          "value": 1,
          "variable": "p"
         },
         {
          "time": 81,
          "value": 1,
          "variable": "p"
         },
         {
          "time": 82,
          "value": 0,
          "variable": "p"
         },
         {
          "time": 83,
          "value": 1,
          "variable": "p"
         },
         {
          "time": 84,
          "value": 1,
          "variable": "p"
         },
         {
          "time": 85,
          "value": 2,
          "variable": "p"
         },
         {
          "time": 86,
          "value": 3,
          "variable": "p"
         },
         {
          "time": 87,
          "value": 2,
          "variable": "p"
         },
         {
          "time": 88,
          "value": 2,
          "variable": "p"
         },
         {
          "time": 89,
          "value": 2,
          "variable": "p"
         },
         {
          "time": 90,
          "value": 2,
          "variable": "p"
         },
         {
          "time": 91,
          "value": 1,
          "variable": "p"
         },
         {
          "time": 92,
          "value": 1,
          "variable": "p"
         },
         {
          "time": 93,
          "value": 0,
          "variable": "p"
         },
         {
          "time": 94,
          "value": 0,
          "variable": "p"
         },
         {
          "time": 95,
          "value": 0,
          "variable": "p"
         },
         {
          "time": 96,
          "value": 0,
          "variable": "p"
         },
         {
          "time": 97,
          "value": 0,
          "variable": "p"
         },
         {
          "time": 98,
          "value": 0,
          "variable": "p"
         },
         {
          "time": 99,
          "value": 0,
          "variable": "p"
         },
         {
          "time": 100,
          "value": 0,
          "variable": "p"
         },
         {
          "time": 0,
          "value": 0,
          "variable": "sym"
         },
         {
          "time": 1,
          "value": 0,
          "variable": "sym"
         },
         {
          "time": 2,
          "value": 35,
          "variable": "sym"
         },
         {
          "time": 3,
          "value": 85,
          "variable": "sym"
         },
         {
          "time": 4,
          "value": 145,
          "variable": "sym"
         },
         {
          "time": 5,
          "value": 229,
          "variable": "sym"
         },
         {
          "time": 6,
          "value": 307,
          "variable": "sym"
         },
         {
          "time": 7,
          "value": 386,
          "variable": "sym"
         },
         {
          "time": 8,
          "value": 516,
          "variable": "sym"
         },
         {
          "time": 9,
          "value": 624,
          "variable": "sym"
         },
         {
          "time": 10,
          "value": 758,
          "variable": "sym"
         },
         {
          "time": 11,
          "value": 845,
          "variable": "sym"
         },
         {
          "time": 12,
          "value": 942,
          "variable": "sym"
         },
         {
          "time": 13,
          "value": 994,
          "variable": "sym"
         },
         {
          "time": 14,
          "value": 1063,
          "variable": "sym"
         },
         {
          "time": 15,
          "value": 1052,
          "variable": "sym"
         },
         {
          "time": 16,
          "value": 1045,
          "variable": "sym"
         },
         {
          "time": 17,
          "value": 985,
          "variable": "sym"
         },
         {
          "time": 18,
          "value": 961,
          "variable": "sym"
         },
         {
          "time": 19,
          "value": 871,
          "variable": "sym"
         },
         {
          "time": 20,
          "value": 802,
          "variable": "sym"
         },
         {
          "time": 21,
          "value": 693,
          "variable": "sym"
         },
         {
          "time": 22,
          "value": 593,
          "variable": "sym"
         },
         {
          "time": 23,
          "value": 541,
          "variable": "sym"
         },
         {
          "time": 24,
          "value": 504,
          "variable": "sym"
         },
         {
          "time": 25,
          "value": 439,
          "variable": "sym"
         },
         {
          "time": 26,
          "value": 372,
          "variable": "sym"
         },
         {
          "time": 27,
          "value": 312,
          "variable": "sym"
         },
         {
          "time": 28,
          "value": 259,
          "variable": "sym"
         },
         {
          "time": 29,
          "value": 198,
          "variable": "sym"
         },
         {
          "time": 30,
          "value": 156,
          "variable": "sym"
         },
         {
          "time": 31,
          "value": 140,
          "variable": "sym"
         },
         {
          "time": 32,
          "value": 112,
          "variable": "sym"
         },
         {
          "time": 33,
          "value": 87,
          "variable": "sym"
         },
         {
          "time": 34,
          "value": 79,
          "variable": "sym"
         },
         {
          "time": 35,
          "value": 63,
          "variable": "sym"
         },
         {
          "time": 36,
          "value": 55,
          "variable": "sym"
         },
         {
          "time": 37,
          "value": 46,
          "variable": "sym"
         },
         {
          "time": 38,
          "value": 43,
          "variable": "sym"
         },
         {
          "time": 39,
          "value": 33,
          "variable": "sym"
         },
         {
          "time": 40,
          "value": 24,
          "variable": "sym"
         },
         {
          "time": 41,
          "value": 23,
          "variable": "sym"
         },
         {
          "time": 42,
          "value": 19,
          "variable": "sym"
         },
         {
          "time": 43,
          "value": 16,
          "variable": "sym"
         },
         {
          "time": 44,
          "value": 13,
          "variable": "sym"
         },
         {
          "time": 45,
          "value": 18,
          "variable": "sym"
         },
         {
          "time": 46,
          "value": 17,
          "variable": "sym"
         },
         {
          "time": 47,
          "value": 13,
          "variable": "sym"
         },
         {
          "time": 48,
          "value": 15,
          "variable": "sym"
         },
         {
          "time": 49,
          "value": 18,
          "variable": "sym"
         },
         {
          "time": 50,
          "value": 16,
          "variable": "sym"
         },
         {
          "time": 51,
          "value": 14,
          "variable": "sym"
         },
         {
          "time": 52,
          "value": 12,
          "variable": "sym"
         },
         {
          "time": 53,
          "value": 9,
          "variable": "sym"
         },
         {
          "time": 54,
          "value": 7,
          "variable": "sym"
         },
         {
          "time": 55,
          "value": 8,
          "variable": "sym"
         },
         {
          "time": 56,
          "value": 6,
          "variable": "sym"
         },
         {
          "time": 57,
          "value": 7,
          "variable": "sym"
         },
         {
          "time": 58,
          "value": 6,
          "variable": "sym"
         },
         {
          "time": 59,
          "value": 6,
          "variable": "sym"
         },
         {
          "time": 60,
          "value": 6,
          "variable": "sym"
         },
         {
          "time": 61,
          "value": 3,
          "variable": "sym"
         },
         {
          "time": 62,
          "value": 2,
          "variable": "sym"
         },
         {
          "time": 63,
          "value": 1,
          "variable": "sym"
         },
         {
          "time": 64,
          "value": 1,
          "variable": "sym"
         },
         {
          "time": 65,
          "value": 2,
          "variable": "sym"
         },
         {
          "time": 66,
          "value": 1,
          "variable": "sym"
         },
         {
          "time": 67,
          "value": 1,
          "variable": "sym"
         },
         {
          "time": 68,
          "value": 4,
          "variable": "sym"
         },
         {
          "time": 69,
          "value": 1,
          "variable": "sym"
         },
         {
          "time": 70,
          "value": 1,
          "variable": "sym"
         },
         {
          "time": 71,
          "value": 1,
          "variable": "sym"
         },
         {
          "time": 72,
          "value": 2,
          "variable": "sym"
         },
         {
          "time": 73,
          "value": 2,
          "variable": "sym"
         },
         {
          "time": 74,
          "value": 2,
          "variable": "sym"
         },
         {
          "time": 75,
          "value": 2,
          "variable": "sym"
         },
         {
          "time": 76,
          "value": 2,
          "variable": "sym"
         },
         {
          "time": 77,
          "value": 2,
          "variable": "sym"
         },
         {
          "time": 78,
          "value": 0,
          "variable": "sym"
         },
         {
          "time": 79,
          "value": 0,
          "variable": "sym"
         },
         {
          "time": 80,
          "value": 0,
          "variable": "sym"
         },
         {
          "time": 81,
          "value": 1,
          "variable": "sym"
         },
         {
          "time": 82,
          "value": 1,
          "variable": "sym"
         },
         {
          "time": 83,
          "value": 1,
          "variable": "sym"
         },
         {
          "time": 84,
          "value": 0,
          "variable": "sym"
         },
         {
          "time": 85,
          "value": 0,
          "variable": "sym"
         },
         {
          "time": 86,
          "value": 1,
          "variable": "sym"
         },
         {
          "time": 87,
          "value": 1,
          "variable": "sym"
         },
         {
          "time": 88,
          "value": 1,
          "variable": "sym"
         },
         {
          "time": 89,
          "value": 0,
          "variable": "sym"
         },
         {
          "time": 90,
          "value": 1,
          "variable": "sym"
         },
         {
          "time": 91,
          "value": 2,
          "variable": "sym"
         },
         {
          "time": 92,
          "value": 2,
          "variable": "sym"
         },
         {
          "time": 93,
          "value": 3,
          "variable": "sym"
         },
         {
          "time": 94,
          "value": 1,
          "variable": "sym"
         },
         {
          "time": 95,
          "value": 1,
          "variable": "sym"
         },
         {
          "time": 96,
          "value": 1,
          "variable": "sym"
         },
         {
          "time": 97,
          "value": 0,
          "variable": "sym"
         },
         {
          "time": 98,
          "value": 0,
          "variable": "sym"
         },
         {
          "time": 99,
          "value": 0,
          "variable": "sym"
         },
         {
          "time": 100,
          "value": 0,
          "variable": "sym"
         },
         {
          "time": 0,
          "value": 0,
          "variable": "sev"
         },
         {
          "time": 1,
          "value": 0,
          "variable": "sev"
         },
         {
          "time": 2,
          "value": 0,
          "variable": "sev"
         },
         {
          "time": 3,
          "value": 1,
          "variable": "sev"
         },
         {
          "time": 4,
          "value": 12,
          "variable": "sev"
         },
         {
          "time": 5,
          "value": 26,
          "variable": "sev"
         },
         {
          "time": 6,
          "value": 69,
          "variable": "sev"
         },
         {
          "time": 7,
          "value": 105,
          "variable": "sev"
         },
         {
          "time": 8,
          "value": 133,
          "variable": "sev"
         },
         {
          "time": 9,
          "value": 192,
          "variable": "sev"
         },
         {
          "time": 10,
          "value": 240,
          "variable": "sev"
         },
         {
          "time": 11,
          "value": 305,
          "variable": "sev"
         },
         {
          "time": 12,
          "value": 370,
          "variable": "sev"
         },
         {
          "time": 13,
          "value": 461,
          "variable": "sev"
         },
         {
          "time": 14,
          "value": 501,
          "variable": "sev"
         },
         {
          "time": 15,
          "value": 571,
          "variable": "sev"
         },
         {
          "time": 16,
          "value": 602,
          "variable": "sev"
         },
         {
          "time": 17,
          "value": 650,
          "variable": "sev"
         },
         {
          "time": 18,
          "value": 655,
          "variable": "sev"
         },
         {
          "time": 19,
          "value": 680,
          "variable": "sev"
         },
         {
          "time": 20,
          "value": 678,
          "variable": "sev"
         },
         {
          "time": 21,
          "value": 659,
          "variable": "sev"
         },
         {
          "time": 22,
          "value": 616,
          "variable": "sev"
         },
         {
          "time": 23,
          "value": 535,
          "variable": "sev"
         },
         {
          "time": 24,
          "value": 473,
          "variable": "sev"
         },
         {
          "time": 25,
          "value": 436,
          "variable": "sev"
         },
         {
          "time": 26,
          "value": 392,
          "variable": "sev"
         },
         {
          "time": 27,
          "value": 343,
          "variable": "sev"
         },
         {
          "time": 28,
          "value": 295,
          "variable": "sev"
         },
         {
          "time": 29,
          "value": 277,
          "variable": "sev"
         },
         {
          "time": 30,
          "value": 243,
          "variable": "sev"
         },
         {
          "time": 31,
          "value": 204,
          "variable": "sev"
         },
         {
          "time": 32,
          "value": 174,
          "variable": "sev"
         },
         {
          "time": 33,
          "value": 139,
          "variable": "sev"
         },
         {
          "time": 34,
          "value": 101,
          "variable": "sev"
         },
         {
          "time": 35,
          "value": 90,
          "variable": "sev"
         },
         {
          "time": 36,
          "value": 73,
          "variable": "sev"
         },
         {
          "time": 37,
          "value": 67,
          "variable": "sev"
         },
         {
          "time": 38,
          "value": 63,
          "variable": "sev"
         },
         {
          "time": 39,
          "value": 45,
          "variable": "sev"
         },
         {
          "time": 40,
          "value": 39,
          "variable": "sev"
         },
         {
          "time": 41,
          "value": 32,
          "variable": "sev"
         },
         {
          "time": 42,
          "value": 27,
          "variable": "sev"
         },
         {
          "time": 43,
          "value": 28,
          "variable": "sev"
         },
         {
          "time": 44,
          "value": 22,
          "variable": "sev"
         },
         {
          "time": 45,
          "value": 14,
          "variable": "sev"
         },
         {
          "time": 46,
          "value": 11,
          "variable": "sev"
         },
         {
          "time": 47,
          "value": 10,
          "variable": "sev"
         },
         {
          "time": 48,
          "value": 8,
          "variable": "sev"
         },
         {
          "time": 49,
          "value": 8,
          "variable": "sev"
         },
         {
          "time": 50,
          "value": 10,
          "variable": "sev"
         },
         {
          "time": 51,
          "value": 9,
          "variable": "sev"
         },
         {
          "time": 52,
          "value": 9,
          "variable": "sev"
         },
         {
          "time": 53,
          "value": 11,
          "variable": "sev"
         },
         {
          "time": 54,
          "value": 13,
          "variable": "sev"
         },
         {
          "time": 55,
          "value": 8,
          "variable": "sev"
         },
         {
          "time": 56,
          "value": 7,
          "variable": "sev"
         },
         {
          "time": 57,
          "value": 4,
          "variable": "sev"
         },
         {
          "time": 58,
          "value": 5,
          "variable": "sev"
         },
         {
          "time": 59,
          "value": 6,
          "variable": "sev"
         },
         {
          "time": 60,
          "value": 4,
          "variable": "sev"
         },
         {
          "time": 61,
          "value": 7,
          "variable": "sev"
         },
         {
          "time": 62,
          "value": 2,
          "variable": "sev"
         },
         {
          "time": 63,
          "value": 2,
          "variable": "sev"
         },
         {
          "time": 64,
          "value": 3,
          "variable": "sev"
         },
         {
          "time": 65,
          "value": 1,
          "variable": "sev"
         },
         {
          "time": 66,
          "value": 1,
          "variable": "sev"
         },
         {
          "time": 67,
          "value": 1,
          "variable": "sev"
         },
         {
          "time": 68,
          "value": 1,
          "variable": "sev"
         },
         {
          "time": 69,
          "value": 2,
          "variable": "sev"
         },
         {
          "time": 70,
          "value": 1,
          "variable": "sev"
         },
         {
          "time": 71,
          "value": 2,
          "variable": "sev"
         },
         {
          "time": 72,
          "value": 1,
          "variable": "sev"
         },
         {
          "time": 73,
          "value": 1,
          "variable": "sev"
         },
         {
          "time": 74,
          "value": 1,
          "variable": "sev"
         },
         {
          "time": 75,
          "value": 1,
          "variable": "sev"
         },
         {
          "time": 76,
          "value": 1,
          "variable": "sev"
         },
         {
          "time": 77,
          "value": 1,
          "variable": "sev"
         },
         {
          "time": 78,
          "value": 2,
          "variable": "sev"
         },
         {
          "time": 79,
          "value": 1,
          "variable": "sev"
         },
         {
          "time": 80,
          "value": 1,
          "variable": "sev"
         },
         {
          "time": 81,
          "value": 1,
          "variable": "sev"
         },
         {
          "time": 82,
          "value": 1,
          "variable": "sev"
         },
         {
          "time": 83,
          "value": 0,
          "variable": "sev"
         },
         {
          "time": 84,
          "value": 0,
          "variable": "sev"
         },
         {
          "time": 85,
          "value": 0,
          "variable": "sev"
         },
         {
          "time": 86,
          "value": 0,
          "variable": "sev"
         },
         {
          "time": 87,
          "value": 0,
          "variable": "sev"
         },
         {
          "time": 88,
          "value": 0,
          "variable": "sev"
         },
         {
          "time": 89,
          "value": 1,
          "variable": "sev"
         },
         {
          "time": 90,
          "value": 1,
          "variable": "sev"
         },
         {
          "time": 91,
          "value": 1,
          "variable": "sev"
         },
         {
          "time": 92,
          "value": 1,
          "variable": "sev"
         },
         {
          "time": 93,
          "value": 1,
          "variable": "sev"
         },
         {
          "time": 94,
          "value": 3,
          "variable": "sev"
         },
         {
          "time": 95,
          "value": 3,
          "variable": "sev"
         },
         {
          "time": 96,
          "value": 2,
          "variable": "sev"
         },
         {
          "time": 97,
          "value": 2,
          "variable": "sev"
         },
         {
          "time": 98,
          "value": 2,
          "variable": "sev"
         },
         {
          "time": 99,
          "value": 1,
          "variable": "sev"
         },
         {
          "time": 100,
          "value": 0,
          "variable": "sev"
         },
         {
          "time": 0,
          "value": 0,
          "variable": "r"
         },
         {
          "time": 1,
          "value": 0,
          "variable": "r"
         },
         {
          "time": 2,
          "value": 36,
          "variable": "r"
         },
         {
          "time": 3,
          "value": 93,
          "variable": "r"
         },
         {
          "time": 4,
          "value": 181,
          "variable": "r"
         },
         {
          "time": 5,
          "value": 314,
          "variable": "r"
         },
         {
          "time": 6,
          "value": 486,
          "variable": "r"
         },
         {
          "time": 7,
          "value": 685,
          "variable": "r"
         },
         {
          "time": 8,
          "value": 939,
          "variable": "r"
         },
         {
          "time": 9,
          "value": 1225,
          "variable": "r"
         },
         {
          "time": 10,
          "value": 1573,
          "variable": "r"
         },
         {
          "time": 11,
          "value": 1961,
          "variable": "r"
         },
         {
          "time": 12,
          "value": 2309,
          "variable": "r"
         },
         {
          "time": 13,
          "value": 2720,
          "variable": "r"
         },
         {
          "time": 14,
          "value": 3148,
          "variable": "r"
         },
         {
          "time": 15,
          "value": 3608,
          "variable": "r"
         },
         {
          "time": 16,
          "value": 4013,
          "variable": "r"
         },
         {
          "time": 17,
          "value": 4396,
          "variable": "r"
         },
         {
          "time": 18,
          "value": 4725,
          "variable": "r"
         },
         {
          "time": 19,
          "value": 5094,
          "variable": "r"
         },
         {
          "time": 20,
          "value": 5417,
          "variable": "r"
         },
         {
          "time": 21,
          "value": 5689,
          "variable": "r"
         },
         {
          "time": 22,
          "value": 5942,
          "variable": "r"
         },
         {
          "time": 23,
          "value": 6175,
          "variable": "r"
         },
         {
          "time": 24,
          "value": 6338,
          "variable": "r"
         },
         {
          "time": 25,
          "value": 6505,
          "variable": "r"
         },
         {
          "time": 26,
          "value": 6653,
          "variable": "r"
         },
         {
          "time": 27,
          "value": 6775,
          "variable": "r"
         },
         {
          "time": 28,
          "value": 6866,
          "variable": "r"
         },
         {
          "time": 29,
          "value": 6974,
          "variable": "r"
         },
         {
          "time": 30,
          "value": 7046,
          "variable": "r"
         },
         {
          "time": 31,
          "value": 7106,
          "variable": "r"
         },
         {
          "time": 32,
          "value": 7148,
          "variable": "r"
         },
         {
          "time": 33,
          "value": 7190,
          "variable": "r"
         },
         {
          "time": 34,
          "value": 7219,
          "variable": "r"
         },
         {
          "time": 35,
          "value": 7245,
          "variable": "r"
         },
         {
          "time": 36,
          "value": 7269,
          "variable": "r"
         },
         {
          "time": 37,
          "value": 7289,
          "variable": "r"
         },
         {
          "time": 38,
          "value": 7310,
          "variable": "r"
         },
         {
          "time": 39,
          "value": 7330,
          "variable": "r"
         },
         {
          "time": 40,
          "value": 7345,
          "variable": "r"
         },
         {
          "time": 41,
          "value": 7353,
          "variable": "r"
         },
         {
          "time": 42,
          "value": 7366,
          "variable": "r"
         },
         {
          "time": 43,
          "value": 7371,
          "variable": "r"
         },
         {
          "time": 44,
          "value": 7380,
          "variable": "r"
         },
         {
          "time": 45,
          "value": 7387,
          "variable": "r"
         },
         {
          "time": 46,
          "value": 7393,
          "variable": "r"
         },
         {
          "time": 47,
          "value": 7400,
          "variable": "r"
         },
         {
          "time": 48,
          "value": 7405,
          "variable": "r"
         },
         {
          "time": 49,
          "value": 7413,
          "variable": "r"
         },
         {
          "time": 50,
          "value": 7415,
          "variable": "r"
         },
         {
          "time": 51,
          "value": 7423,
          "variable": "r"
         },
         {
          "time": 52,
          "value": 7429,
          "variable": "r"
         },
         {
          "time": 53,
          "value": 7430,
          "variable": "r"
         },
         {
          "time": 54,
          "value": 7432,
          "variable": "r"
         },
         {
          "time": 55,
          "value": 7438,
          "variable": "r"
         },
         {
          "time": 56,
          "value": 7440,
          "variable": "r"
         },
         {
          "time": 57,
          "value": 7442,
          "variable": "r"
         },
         {
          "time": 58,
          "value": 7444,
          "variable": "r"
         },
         {
          "time": 59,
          "value": 7445,
          "variable": "r"
         },
         {
          "time": 60,
          "value": 7445,
          "variable": "r"
         },
         {
          "time": 61,
          "value": 7448,
          "variable": "r"
         },
         {
          "time": 62,
          "value": 7451,
          "variable": "r"
         },
         {
          "time": 63,
          "value": 7453,
          "variable": "r"
         },
         {
          "time": 64,
          "value": 7453,
          "variable": "r"
         },
         {
          "time": 65,
          "value": 7456,
          "variable": "r"
         },
         {
          "time": 66,
          "value": 7457,
          "variable": "r"
         },
         {
          "time": 67,
          "value": 7457,
          "variable": "r"
         },
         {
          "time": 68,
          "value": 7457,
          "variable": "r"
         },
         {
          "time": 69,
          "value": 7460,
          "variable": "r"
         },
         {
          "time": 70,
          "value": 7462,
          "variable": "r"
         },
         {
          "time": 71,
          "value": 7462,
          "variable": "r"
         },
         {
          "time": 72,
          "value": 7463,
          "variable": "r"
         },
         {
          "time": 73,
          "value": 7463,
          "variable": "r"
         },
         {
          "time": 74,
          "value": 7463,
          "variable": "r"
         },
         {
          "time": 75,
          "value": 7463,
          "variable": "r"
         },
         {
          "time": 76,
          "value": 7463,
          "variable": "r"
         },
         {
          "time": 77,
          "value": 7465,
          "variable": "r"
         },
         {
          "time": 78,
          "value": 7467,
          "variable": "r"
         },
         {
          "time": 79,
          "value": 7468,
          "variable": "r"
         },
         {
          "time": 80,
          "value": 7468,
          "variable": "r"
         },
         {
          "time": 81,
          "value": 7468,
          "variable": "r"
         },
         {
          "time": 82,
          "value": 7469,
          "variable": "r"
         },
         {
          "time": 83,
          "value": 7469,
          "variable": "r"
         },
         {
          "time": 84,
          "value": 7470,
          "variable": "r"
         },
         {
          "time": 85,
          "value": 7471,
          "variable": "r"
         },
         {
          "time": 86,
          "value": 7471,
          "variable": "r"
         },
         {
          "time": 87,
          "value": 7472,
          "variable": "r"
         },
         {
          "time": 88,
          "value": 7472,
          "variable": "r"
         },
         {
          "time": 89,
          "value": 7472,
          "variable": "r"
         },
         {
          "time": 90,
          "value": 7472,
          "variable": "r"
         },
         {
          "time": 91,
          "value": 7472,
          "variable": "r"
         },
         {
          "time": 92,
          "value": 7472,
          "variable": "r"
         },
         {
          "time": 93,
          "value": 7472,
          "variable": "r"
         },
         {
          "time": 94,
          "value": 7472,
          "variable": "r"
         },
         {
          "time": 95,
          "value": 7472,
          "variable": "r"
         },
         {
          "time": 96,
          "value": 7473,
          "variable": "r"
         },
         {
          "time": 97,
          "value": 7473,
          "variable": "r"
         },
         {
          "time": 98,
          "value": 7473,
          "variable": "r"
         },
         {
          "time": 99,
          "value": 7473,
          "variable": "r"
         },
         {
          "time": 100,
          "value": 7473,
          "variable": "r"
         },
         {
          "time": 0,
          "value": 0,
          "variable": "d"
         },
         {
          "time": 1,
          "value": 0,
          "variable": "d"
         },
         {
          "time": 2,
          "value": 0,
          "variable": "d"
         },
         {
          "time": 3,
          "value": 0,
          "variable": "d"
         },
         {
          "time": 4,
          "value": 0,
          "variable": "d"
         },
         {
          "time": 5,
          "value": 2,
          "variable": "d"
         },
         {
          "time": 6,
          "value": 8,
          "variable": "d"
         },
         {
          "time": 7,
          "value": 15,
          "variable": "d"
         },
         {
          "time": 8,
          "value": 36,
          "variable": "d"
         },
         {
          "time": 9,
          "value": 59,
          "variable": "d"
         },
         {
          "time": 10,
          "value": 94,
          "variable": "d"
         },
         {
          "time": 11,
          "value": 139,
          "variable": "d"
         },
         {
          "time": 12,
          "value": 196,
          "variable": "d"
         },
         {
          "time": 13,
          "value": 264,
          "variable": "d"
         },
         {
          "time": 14,
          "value": 356,
          "variable": "d"
         },
         {
          "time": 15,
          "value": 454,
          "variable": "d"
         },
         {
          "time": 16,
          "value": 586,
          "variable": "d"
         },
         {
          "time": 17,
          "value": 708,
          "variable": "d"
         },
         {
          "time": 18,
          "value": 860,
          "variable": "d"
         },
         {
          "time": 19,
          "value": 982,
          "variable": "d"
         },
         {
          "time": 20,
          "value": 1122,
          "variable": "d"
         },
         {
          "time": 21,
          "value": 1266,
          "variable": "d"
         },
         {
          "time": 22,
          "value": 1408,
          "variable": "d"
         },
         {
          "time": 23,
          "value": 1546,
          "variable": "d"
         },
         {
          "time": 24,
          "value": 1665,
          "variable": "d"
         },
         {
          "time": 25,
          "value": 1772,
          "variable": "d"
         },
         {
          "time": 26,
          "value": 1872,
          "variable": "d"
         },
         {
          "time": 27,
          "value": 1958,
          "variable": "d"
         },
         {
          "time": 28,
          "value": 2062,
          "variable": "d"
         },
         {
          "time": 29,
          "value": 2116,
          "variable": "d"
         },
         {
          "time": 30,
          "value": 2175,
          "variable": "d"
         },
         {
          "time": 31,
          "value": 2224,
          "variable": "d"
         },
         {
          "time": 32,
          "value": 2275,
          "variable": "d"
         },
         {
          "time": 33,
          "value": 2321,
          "variable": "d"
         },
         {
          "time": 34,
          "value": 2358,
          "variable": "d"
         },
         {
          "time": 35,
          "value": 2378,
          "variable": "d"
         },
         {
          "time": 36,
          "value": 2398,
          "variable": "d"
         },
         {
          "time": 37,
          "value": 2410,
          "variable": "d"
         },
         {
          "time": 38,
          "value": 2419,
          "variable": "d"
         },
         {
          "time": 39,
          "value": 2440,
          "variable": "d"
         },
         {
          "time": 40,
          "value": 2451,
          "variable": "d"
         },
         {
          "time": 41,
          "value": 2460,
          "variable": "d"
         },
         {
          "time": 42,
          "value": 2466,
          "variable": "d"
         },
         {
          "time": 43,
          "value": 2469,
          "variable": "d"
         },
         {
          "time": 44,
          "value": 2479,
          "variable": "d"
         },
         {
          "time": 45,
          "value": 2486,
          "variable": "d"
         },
         {
          "time": 46,
          "value": 2489,
          "variable": "d"
         },
         {
          "time": 47,
          "value": 2491,
          "variable": "d"
         },
         {
          "time": 48,
          "value": 2493,
          "variable": "d"
         },
         {
          "time": 49,
          "value": 2493,
          "variable": "d"
         },
         {
          "time": 50,
          "value": 2494,
          "variable": "d"
         },
         {
          "time": 51,
          "value": 2494,
          "variable": "d"
         },
         {
          "time": 52,
          "value": 2497,
          "variable": "d"
         },
         {
          "time": 53,
          "value": 2499,
          "variable": "d"
         },
         {
          "time": 54,
          "value": 2500,
          "variable": "d"
         },
         {
          "time": 55,
          "value": 2504,
          "variable": "d"
         },
         {
          "time": 56,
          "value": 2507,
          "variable": "d"
         },
         {
          "time": 57,
          "value": 2508,
          "variable": "d"
         },
         {
          "time": 58,
          "value": 2508,
          "variable": "d"
         },
         {
          "time": 59,
          "value": 2510,
          "variable": "d"
         },
         {
          "time": 60,
          "value": 2513,
          "variable": "d"
         },
         {
          "time": 61,
          "value": 2513,
          "variable": "d"
         },
         {
          "time": 62,
          "value": 2517,
          "variable": "d"
         },
         {
          "time": 63,
          "value": 2518,
          "variable": "d"
         },
         {
          "time": 64,
          "value": 2518,
          "variable": "d"
         },
         {
          "time": 65,
          "value": 2520,
          "variable": "d"
         },
         {
          "time": 66,
          "value": 2520,
          "variable": "d"
         },
         {
          "time": 67,
          "value": 2520,
          "variable": "d"
         },
         {
          "time": 68,
          "value": 2520,
          "variable": "d"
         },
         {
          "time": 69,
          "value": 2520,
          "variable": "d"
         },
         {
          "time": 70,
          "value": 2520,
          "variable": "d"
         },
         {
          "time": 71,
          "value": 2520,
          "variable": "d"
         },
         {
          "time": 72,
          "value": 2521,
          "variable": "d"
         },
         {
          "time": 73,
          "value": 2521,
          "variable": "d"
         },
         {
          "time": 74,
          "value": 2521,
          "variable": "d"
         },
         {
          "time": 75,
          "value": 2521,
          "variable": "d"
         },
         {
          "time": 76,
          "value": 2521,
          "variable": "d"
         },
         {
          "time": 77,
          "value": 2521,
          "variable": "d"
         },
         {
          "time": 78,
          "value": 2521,
          "variable": "d"
         },
         {
          "time": 79,
          "value": 2521,
          "variable": "d"
         },
         {
          "time": 80,
          "value": 2521,
          "variable": "d"
         },
         {
          "time": 81,
          "value": 2521,
          "variable": "d"
         },
         {
          "time": 82,
          "value": 2521,
          "variable": "d"
         },
         {
          "time": 83,
          "value": 2522,
          "variable": "d"
         },
         {
          "time": 84,
          "value": 2522,
          "variable": "d"
         },
         {
          "time": 85,
          "value": 2522,
          "variable": "d"
         },
         {
          "time": 86,
          "value": 2522,
          "variable": "d"
         },
         {
          "time": 87,
          "value": 2522,
          "variable": "d"
         },
         {
          "time": 88,
          "value": 2522,
          "variable": "d"
         },
         {
          "time": 89,
          "value": 2522,
          "variable": "d"
         },
         {
          "time": 90,
          "value": 2522,
          "variable": "d"
         },
         {
          "time": 91,
          "value": 2522,
          "variable": "d"
         },
         {
          "time": 92,
          "value": 2522,
          "variable": "d"
         },
         {
          "time": 93,
          "value": 2522,
          "variable": "d"
         },
         {
          "time": 94,
          "value": 2522,
          "variable": "d"
         },
         {
          "time": 95,
          "value": 2522,
          "variable": "d"
         },
         {
          "time": 96,
          "value": 2522,
          "variable": "d"
         },
         {
          "time": 97,
          "value": 2523,
          "variable": "d"
         },
         {
          "time": 98,
          "value": 2523,
          "variable": "d"
         },
         {
          "time": 99,
          "value": 2524,
          "variable": "d"
         },
         {
          "time": 100,
          "value": 2525,
          "variable": "d"
         }
        ]
       },
       "encoding": {
        "color": {
         "field": "variable",
         "type": "nominal"
        },
        "x": {
         "field": "time",
         "type": "ordinal"
        },
        "y": {
         "field": "value",
         "type": "quantitative"
        }
       },
       "mark": "line",
       "width": 850
      },
      "image/png": "[encoded data removed]",
      "text/plain": [
       "<VegaLite 3 object>\n",
       "\n",
       "If you see this message, it means the renderer has not been properly enabled\n",
       "for the frontend that you are using. For more information, see\n",
       "https://altair-viz.github.io/user_guide/troubleshooting.html\n"
      ]
     },
     "execution_count": 231,
     "metadata": {},
     "output_type": "execute_result"
    }
   ],
   "source": [
    "alt.Chart(c_melted).mark_line().encode(\n",
    "    x='time:O',\n",
    "    y='value:Q',\n",
    "    color='variable',\n",
    ").properties(width=850)"
   ]
  },
  {
   "cell_type": "code",
   "execution_count": 222,
   "metadata": {},
   "outputs": [],
   "source": [
    "c_m_2 = compartments[['time','a', 'p', 'sym', 'sev']].melt('time')"
   ]
  },
  {
   "cell_type": "code",
   "execution_count": 224,
   "metadata": {},
   "outputs": [
    {
     "data": {
      "application/vnd.vegalite.v3+json": {
       "$schema": "https://vega.github.io/schema/vega-lite/v3.4.0.json",
       "config": {
        "mark": {
         "tooltip": null
        },
        "view": {
         "height": 300,
         "width": 400
        }
       },
       "data": {
        "name": "data-f77ca29c5c25a292205958541534c8c6"
       },
       "datasets": {
        "data-f77ca29c5c25a292205958541534c8c6": [
         {
          "time": 0,
          "value": 0,
          "variable": "a"
         },
         {
          "time": 1,
          "value": 132,
          "variable": "a"
         },
         {
          "time": 2,
          "value": 253,
          "variable": "a"
         },
         {
          "time": 3,
          "value": 358,
          "variable": "a"
         },
         {
          "time": 4,
          "value": 483,
          "variable": "a"
         },
         {
          "time": 5,
          "value": 594,
          "variable": "a"
         },
         {
          "time": 6,
          "value": 698,
          "variable": "a"
         },
         {
          "time": 7,
          "value": 834,
          "variable": "a"
         },
         {
          "time": 8,
          "value": 921,
          "variable": "a"
         },
         {
          "time": 9,
          "value": 1018,
          "variable": "a"
         },
         {
          "time": 10,
          "value": 1005,
          "variable": "a"
         },
         {
          "time": 11,
          "value": 1032,
          "variable": "a"
         },
         {
          "time": 12,
          "value": 1081,
          "variable": "a"
         },
         {
          "time": 13,
          "value": 1047,
          "variable": "a"
         },
         {
          "time": 14,
          "value": 1009,
          "variable": "a"
         },
         {
          "time": 15,
          "value": 901,
          "variable": "a"
         },
         {
          "time": 16,
          "value": 820,
          "variable": "a"
         },
         {
          "time": 17,
          "value": 745,
          "variable": "a"
         },
         {
          "time": 18,
          "value": 685,
          "variable": "a"
         },
         {
          "time": 19,
          "value": 575,
          "variable": "a"
         },
         {
          "time": 20,
          "value": 466,
          "variable": "a"
         },
         {
          "time": 21,
          "value": 404,
          "variable": "a"
         },
         {
          "time": 22,
          "value": 340,
          "variable": "a"
         },
         {
          "time": 23,
          "value": 270,
          "variable": "a"
         },
         {
          "time": 24,
          "value": 247,
          "variable": "a"
         },
         {
          "time": 25,
          "value": 196,
          "variable": "a"
         },
         {
          "time": 26,
          "value": 163,
          "variable": "a"
         },
         {
          "time": 27,
          "value": 128,
          "variable": "a"
         },
         {
          "time": 28,
          "value": 105,
          "variable": "a"
         },
         {
          "time": 29,
          "value": 72,
          "variable": "a"
         },
         {
          "time": 30,
          "value": 58,
          "variable": "a"
         },
         {
          "time": 31,
          "value": 39,
          "variable": "a"
         },
         {
          "time": 32,
          "value": 35,
          "variable": "a"
         },
         {
          "time": 33,
          "value": 32,
          "variable": "a"
         },
         {
          "time": 34,
          "value": 31,
          "variable": "a"
         },
         {
          "time": 35,
          "value": 32,
          "variable": "a"
         },
         {
          "time": 36,
          "value": 30,
          "variable": "a"
         },
         {
          "time": 37,
          "value": 28,
          "variable": "a"
         },
         {
          "time": 38,
          "value": 24,
          "variable": "a"
         },
         {
          "time": 39,
          "value": 18,
          "variable": "a"
         },
         {
          "time": 40,
          "value": 15,
          "variable": "a"
         },
         {
          "time": 41,
          "value": 17,
          "variable": "a"
         },
         {
          "time": 42,
          "value": 15,
          "variable": "a"
         },
         {
          "time": 43,
          "value": 14,
          "variable": "a"
         },
         {
          "time": 44,
          "value": 15,
          "variable": "a"
         },
         {
          "time": 45,
          "value": 12,
          "variable": "a"
         },
         {
          "time": 46,
          "value": 11,
          "variable": "a"
         },
         {
          "time": 47,
          "value": 13,
          "variable": "a"
         },
         {
          "time": 48,
          "value": 13,
          "variable": "a"
         },
         {
          "time": 49,
          "value": 8,
          "variable": "a"
         },
         {
          "time": 50,
          "value": 9,
          "variable": "a"
         },
         {
          "time": 51,
          "value": 8,
          "variable": "a"
         },
         {
          "time": 52,
          "value": 6,
          "variable": "a"
         },
         {
          "time": 53,
          "value": 6,
          "variable": "a"
         },
         {
          "time": 54,
          "value": 6,
          "variable": "a"
         },
         {
          "time": 55,
          "value": 3,
          "variable": "a"
         },
         {
          "time": 56,
          "value": 2,
          "variable": "a"
         },
         {
          "time": 57,
          "value": 3,
          "variable": "a"
         },
         {
          "time": 58,
          "value": 3,
          "variable": "a"
         },
         {
          "time": 59,
          "value": 4,
          "variable": "a"
         },
         {
          "time": 60,
          "value": 7,
          "variable": "a"
         },
         {
          "time": 61,
          "value": 5,
          "variable": "a"
         },
         {
          "time": 62,
          "value": 4,
          "variable": "a"
         },
         {
          "time": 63,
          "value": 4,
          "variable": "a"
         },
         {
          "time": 64,
          "value": 4,
          "variable": "a"
         },
         {
          "time": 65,
          "value": 2,
          "variable": "a"
         },
         {
          "time": 66,
          "value": 2,
          "variable": "a"
         },
         {
          "time": 67,
          "value": 2,
          "variable": "a"
         },
         {
          "time": 68,
          "value": 2,
          "variable": "a"
         },
         {
          "time": 69,
          "value": 1,
          "variable": "a"
         },
         {
          "time": 70,
          "value": 0,
          "variable": "a"
         },
         {
          "time": 71,
          "value": 1,
          "variable": "a"
         },
         {
          "time": 72,
          "value": 1,
          "variable": "a"
         },
         {
          "time": 73,
          "value": 1,
          "variable": "a"
         },
         {
          "time": 74,
          "value": 1,
          "variable": "a"
         },
         {
          "time": 75,
          "value": 1,
          "variable": "a"
         },
         {
          "time": 76,
          "value": 3,
          "variable": "a"
         },
         {
          "time": 77,
          "value": 1,
          "variable": "a"
         },
         {
          "time": 78,
          "value": 1,
          "variable": "a"
         },
         {
          "time": 79,
          "value": 1,
          "variable": "a"
         },
         {
          "time": 80,
          "value": 1,
          "variable": "a"
         },
         {
          "time": 81,
          "value": 1,
          "variable": "a"
         },
         {
          "time": 82,
          "value": 1,
          "variable": "a"
         },
         {
          "time": 83,
          "value": 1,
          "variable": "a"
         },
         {
          "time": 84,
          "value": 1,
          "variable": "a"
         },
         {
          "time": 85,
          "value": 0,
          "variable": "a"
         },
         {
          "time": 86,
          "value": 0,
          "variable": "a"
         },
         {
          "time": 87,
          "value": 0,
          "variable": "a"
         },
         {
          "time": 88,
          "value": 0,
          "variable": "a"
         },
         {
          "time": 89,
          "value": 0,
          "variable": "a"
         },
         {
          "time": 90,
          "value": 0,
          "variable": "a"
         },
         {
          "time": 91,
          "value": 0,
          "variable": "a"
         },
         {
          "time": 92,
          "value": 0,
          "variable": "a"
         },
         {
          "time": 93,
          "value": 0,
          "variable": "a"
         },
         {
          "time": 94,
          "value": 0,
          "variable": "a"
         },
         {
          "time": 95,
          "value": 0,
          "variable": "a"
         },
         {
          "time": 96,
          "value": 0,
          "variable": "a"
         },
         {
          "time": 97,
          "value": 0,
          "variable": "a"
         },
         {
          "time": 98,
          "value": 0,
          "variable": "a"
         },
         {
          "time": 99,
          "value": 0,
          "variable": "a"
         },
         {
          "time": 100,
          "value": 0,
          "variable": "a"
         },
         {
          "time": 0,
          "value": 0,
          "variable": "p"
         },
         {
          "time": 1,
          "value": 119,
          "variable": "p"
         },
         {
          "time": 2,
          "value": 238,
          "variable": "p"
         },
         {
          "time": 3,
          "value": 326,
          "variable": "p"
         },
         {
          "time": 4,
          "value": 449,
          "variable": "p"
         },
         {
          "time": 5,
          "value": 548,
          "variable": "p"
         },
         {
          "time": 6,
          "value": 662,
          "variable": "p"
         },
         {
          "time": 7,
          "value": 823,
          "variable": "p"
         },
         {
          "time": 8,
          "value": 893,
          "variable": "p"
         },
         {
          "time": 9,
          "value": 983,
          "variable": "p"
         },
         {
          "time": 10,
          "value": 1054,
          "variable": "p"
         },
         {
          "time": 11,
          "value": 1138,
          "variable": "p"
         },
         {
          "time": 12,
          "value": 1143,
          "variable": "p"
         },
         {
          "time": 13,
          "value": 1109,
          "variable": "p"
         },
         {
          "time": 14,
          "value": 1023,
          "variable": "p"
         },
         {
          "time": 15,
          "value": 977,
          "variable": "p"
         },
         {
          "time": 16,
          "value": 885,
          "variable": "p"
         },
         {
          "time": 17,
          "value": 782,
          "variable": "p"
         },
         {
          "time": 18,
          "value": 670,
          "variable": "p"
         },
         {
          "time": 19,
          "value": 594,
          "variable": "p"
         },
         {
          "time": 20,
          "value": 495,
          "variable": "p"
         },
         {
          "time": 21,
          "value": 442,
          "variable": "p"
         },
         {
          "time": 22,
          "value": 390,
          "variable": "p"
         },
         {
          "time": 23,
          "value": 326,
          "variable": "p"
         },
         {
          "time": 24,
          "value": 263,
          "variable": "p"
         },
         {
          "time": 25,
          "value": 217,
          "variable": "p"
         },
         {
          "time": 26,
          "value": 174,
          "variable": "p"
         },
         {
          "time": 27,
          "value": 149,
          "variable": "p"
         },
         {
          "time": 28,
          "value": 123,
          "variable": "p"
         },
         {
          "time": 29,
          "value": 102,
          "variable": "p"
         },
         {
          "time": 30,
          "value": 83,
          "variable": "p"
         },
         {
          "time": 31,
          "value": 64,
          "variable": "p"
         },
         {
          "time": 32,
          "value": 51,
          "variable": "p"
         },
         {
          "time": 33,
          "value": 47,
          "variable": "p"
         },
         {
          "time": 34,
          "value": 38,
          "variable": "p"
         },
         {
          "time": 35,
          "value": 31,
          "variable": "p"
         },
         {
          "time": 36,
          "value": 29,
          "variable": "p"
         },
         {
          "time": 37,
          "value": 27,
          "variable": "p"
         },
         {
          "time": 38,
          "value": 17,
          "variable": "p"
         },
         {
          "time": 39,
          "value": 18,
          "variable": "p"
         },
         {
          "time": 40,
          "value": 16,
          "variable": "p"
         },
         {
          "time": 41,
          "value": 16,
          "variable": "p"
         },
         {
          "time": 42,
          "value": 15,
          "variable": "p"
         },
         {
          "time": 43,
          "value": 12,
          "variable": "p"
         },
         {
          "time": 44,
          "value": 11,
          "variable": "p"
         },
         {
          "time": 45,
          "value": 8,
          "variable": "p"
         },
         {
          "time": 46,
          "value": 7,
          "variable": "p"
         },
         {
          "time": 47,
          "value": 12,
          "variable": "p"
         },
         {
          "time": 48,
          "value": 11,
          "variable": "p"
         },
         {
          "time": 49,
          "value": 8,
          "variable": "p"
         },
         {
          "time": 50,
          "value": 6,
          "variable": "p"
         },
         {
          "time": 51,
          "value": 8,
          "variable": "p"
         },
         {
          "time": 52,
          "value": 6,
          "variable": "p"
         },
         {
          "time": 53,
          "value": 6,
          "variable": "p"
         },
         {
          "time": 54,
          "value": 6,
          "variable": "p"
         },
         {
          "time": 55,
          "value": 6,
          "variable": "p"
         },
         {
          "time": 56,
          "value": 7,
          "variable": "p"
         },
         {
          "time": 57,
          "value": 6,
          "variable": "p"
         },
         {
          "time": 58,
          "value": 6,
          "variable": "p"
         },
         {
          "time": 59,
          "value": 2,
          "variable": "p"
         },
         {
          "time": 60,
          "value": 1,
          "variable": "p"
         },
         {
          "time": 61,
          "value": 1,
          "variable": "p"
         },
         {
          "time": 62,
          "value": 1,
          "variable": "p"
         },
         {
          "time": 63,
          "value": 2,
          "variable": "p"
         },
         {
          "time": 64,
          "value": 2,
          "variable": "p"
         },
         {
          "time": 65,
          "value": 3,
          "variable": "p"
         },
         {
          "time": 66,
          "value": 3,
          "variable": "p"
         },
         {
          "time": 67,
          "value": 5,
          "variable": "p"
         },
         {
          "time": 68,
          "value": 2,
          "variable": "p"
         },
         {
          "time": 69,
          "value": 3,
          "variable": "p"
         },
         {
          "time": 70,
          "value": 3,
          "variable": "p"
         },
         {
          "time": 71,
          "value": 2,
          "variable": "p"
         },
         {
          "time": 72,
          "value": 0,
          "variable": "p"
         },
         {
          "time": 73,
          "value": 0,
          "variable": "p"
         },
         {
          "time": 74,
          "value": 0,
          "variable": "p"
         },
         {
          "time": 75,
          "value": 0,
          "variable": "p"
         },
         {
          "time": 76,
          "value": 1,
          "variable": "p"
         },
         {
          "time": 77,
          "value": 1,
          "variable": "p"
         },
         {
          "time": 78,
          "value": 1,
          "variable": "p"
         },
         {
          "time": 79,
          "value": 1,
          "variable": "p"
         },
         {
          "time": 80,
          "value": 1,
          "variable": "p"
         },
         {
          "time": 81,
          "value": 1,
          "variable": "p"
         },
         {
          "time": 82,
          "value": 0,
          "variable": "p"
         },
         {
          "time": 83,
          "value": 1,
          "variable": "p"
         },
         {
          "time": 84,
          "value": 1,
          "variable": "p"
         },
         {
          "time": 85,
          "value": 2,
          "variable": "p"
         },
         {
          "time": 86,
          "value": 3,
          "variable": "p"
         },
         {
          "time": 87,
          "value": 2,
          "variable": "p"
         },
         {
          "time": 88,
          "value": 2,
          "variable": "p"
         },
         {
          "time": 89,
          "value": 2,
          "variable": "p"
         },
         {
          "time": 90,
          "value": 2,
          "variable": "p"
         },
         {
          "time": 91,
          "value": 1,
          "variable": "p"
         },
         {
          "time": 92,
          "value": 1,
          "variable": "p"
         },
         {
          "time": 93,
          "value": 0,
          "variable": "p"
         },
         {
          "time": 94,
          "value": 0,
          "variable": "p"
         },
         {
          "time": 95,
          "value": 0,
          "variable": "p"
         },
         {
          "time": 96,
          "value": 0,
          "variable": "p"
         },
         {
          "time": 97,
          "value": 0,
          "variable": "p"
         },
         {
          "time": 98,
          "value": 0,
          "variable": "p"
         },
         {
          "time": 99,
          "value": 0,
          "variable": "p"
         },
         {
          "time": 100,
          "value": 0,
          "variable": "p"
         },
         {
          "time": 0,
          "value": 0,
          "variable": "sym"
         },
         {
          "time": 1,
          "value": 0,
          "variable": "sym"
         },
         {
          "time": 2,
          "value": 35,
          "variable": "sym"
         },
         {
          "time": 3,
          "value": 85,
          "variable": "sym"
         },
         {
          "time": 4,
          "value": 145,
          "variable": "sym"
         },
         {
          "time": 5,
          "value": 229,
          "variable": "sym"
         },
         {
          "time": 6,
          "value": 307,
          "variable": "sym"
         },
         {
          "time": 7,
          "value": 386,
          "variable": "sym"
         },
         {
          "time": 8,
          "value": 516,
          "variable": "sym"
         },
         {
          "time": 9,
          "value": 624,
          "variable": "sym"
         },
         {
          "time": 10,
          "value": 758,
          "variable": "sym"
         },
         {
          "time": 11,
          "value": 845,
          "variable": "sym"
         },
         {
          "time": 12,
          "value": 942,
          "variable": "sym"
         },
         {
          "time": 13,
          "value": 994,
          "variable": "sym"
         },
         {
          "time": 14,
          "value": 1063,
          "variable": "sym"
         },
         {
          "time": 15,
          "value": 1052,
          "variable": "sym"
         },
         {
          "time": 16,
          "value": 1045,
          "variable": "sym"
         },
         {
          "time": 17,
          "value": 985,
          "variable": "sym"
         },
         {
          "time": 18,
          "value": 961,
          "variable": "sym"
         },
         {
          "time": 19,
          "value": 871,
          "variable": "sym"
         },
         {
          "time": 20,
          "value": 802,
          "variable": "sym"
         },
         {
          "time": 21,
          "value": 693,
          "variable": "sym"
         },
         {
          "time": 22,
          "value": 593,
          "variable": "sym"
         },
         {
          "time": 23,
          "value": 541,
          "variable": "sym"
         },
         {
          "time": 24,
          "value": 504,
          "variable": "sym"
         },
         {
          "time": 25,
          "value": 439,
          "variable": "sym"
         },
         {
          "time": 26,
          "value": 372,
          "variable": "sym"
         },
         {
          "time": 27,
          "value": 312,
          "variable": "sym"
         },
         {
          "time": 28,
          "value": 259,
          "variable": "sym"
         },
         {
          "time": 29,
          "value": 198,
          "variable": "sym"
         },
         {
          "time": 30,
          "value": 156,
          "variable": "sym"
         },
         {
          "time": 31,
          "value": 140,
          "variable": "sym"
         },
         {
          "time": 32,
          "value": 112,
          "variable": "sym"
         },
         {
          "time": 33,
          "value": 87,
          "variable": "sym"
         },
         {
          "time": 34,
          "value": 79,
          "variable": "sym"
         },
         {
          "time": 35,
          "value": 63,
          "variable": "sym"
         },
         {
          "time": 36,
          "value": 55,
          "variable": "sym"
         },
         {
          "time": 37,
          "value": 46,
          "variable": "sym"
         },
         {
          "time": 38,
          "value": 43,
          "variable": "sym"
         },
         {
          "time": 39,
          "value": 33,
          "variable": "sym"
         },
         {
          "time": 40,
          "value": 24,
          "variable": "sym"
         },
         {
          "time": 41,
          "value": 23,
          "variable": "sym"
         },
         {
          "time": 42,
          "value": 19,
          "variable": "sym"
         },
         {
          "time": 43,
          "value": 16,
          "variable": "sym"
         },
         {
          "time": 44,
          "value": 13,
          "variable": "sym"
         },
         {
          "time": 45,
          "value": 18,
          "variable": "sym"
         },
         {
          "time": 46,
          "value": 17,
          "variable": "sym"
         },
         {
          "time": 47,
          "value": 13,
          "variable": "sym"
         },
         {
          "time": 48,
          "value": 15,
          "variable": "sym"
         },
         {
          "time": 49,
          "value": 18,
          "variable": "sym"
         },
         {
          "time": 50,
          "value": 16,
          "variable": "sym"
         },
         {
          "time": 51,
          "value": 14,
          "variable": "sym"
         },
         {
          "time": 52,
          "value": 12,
          "variable": "sym"
         },
         {
          "time": 53,
          "value": 9,
          "variable": "sym"
         },
         {
          "time": 54,
          "value": 7,
          "variable": "sym"
         },
         {
          "time": 55,
          "value": 8,
          "variable": "sym"
         },
         {
          "time": 56,
          "value": 6,
          "variable": "sym"
         },
         {
          "time": 57,
          "value": 7,
          "variable": "sym"
         },
         {
          "time": 58,
          "value": 6,
          "variable": "sym"
         },
         {
          "time": 59,
          "value": 6,
          "variable": "sym"
         },
         {
          "time": 60,
          "value": 6,
          "variable": "sym"
         },
         {
          "time": 61,
          "value": 3,
          "variable": "sym"
         },
         {
          "time": 62,
          "value": 2,
          "variable": "sym"
         },
         {
          "time": 63,
          "value": 1,
          "variable": "sym"
         },
         {
          "time": 64,
          "value": 1,
          "variable": "sym"
         },
         {
          "time": 65,
          "value": 2,
          "variable": "sym"
         },
         {
          "time": 66,
          "value": 1,
          "variable": "sym"
         },
         {
          "time": 67,
          "value": 1,
          "variable": "sym"
         },
         {
          "time": 68,
          "value": 4,
          "variable": "sym"
         },
         {
          "time": 69,
          "value": 1,
          "variable": "sym"
         },
         {
          "time": 70,
          "value": 1,
          "variable": "sym"
         },
         {
          "time": 71,
          "value": 1,
          "variable": "sym"
         },
         {
          "time": 72,
          "value": 2,
          "variable": "sym"
         },
         {
          "time": 73,
          "value": 2,
          "variable": "sym"
         },
         {
          "time": 74,
          "value": 2,
          "variable": "sym"
         },
         {
          "time": 75,
          "value": 2,
          "variable": "sym"
         },
         {
          "time": 76,
          "value": 2,
          "variable": "sym"
         },
         {
          "time": 77,
          "value": 2,
          "variable": "sym"
         },
         {
          "time": 78,
          "value": 0,
          "variable": "sym"
         },
         {
          "time": 79,
          "value": 0,
          "variable": "sym"
         },
         {
          "time": 80,
          "value": 0,
          "variable": "sym"
         },
         {
          "time": 81,
          "value": 1,
          "variable": "sym"
         },
         {
          "time": 82,
          "value": 1,
          "variable": "sym"
         },
         {
          "time": 83,
          "value": 1,
          "variable": "sym"
         },
         {
          "time": 84,
          "value": 0,
          "variable": "sym"
         },
         {
          "time": 85,
          "value": 0,
          "variable": "sym"
         },
         {
          "time": 86,
          "value": 1,
          "variable": "sym"
         },
         {
          "time": 87,
          "value": 1,
          "variable": "sym"
         },
         {
          "time": 88,
          "value": 1,
          "variable": "sym"
         },
         {
          "time": 89,
          "value": 0,
          "variable": "sym"
         },
         {
          "time": 90,
          "value": 1,
          "variable": "sym"
         },
         {
          "time": 91,
          "value": 2,
          "variable": "sym"
         },
         {
          "time": 92,
          "value": 2,
          "variable": "sym"
         },
         {
          "time": 93,
          "value": 3,
          "variable": "sym"
         },
         {
          "time": 94,
          "value": 1,
          "variable": "sym"
         },
         {
          "time": 95,
          "value": 1,
          "variable": "sym"
         },
         {
          "time": 96,
          "value": 1,
          "variable": "sym"
         },
         {
          "time": 97,
          "value": 0,
          "variable": "sym"
         },
         {
          "time": 98,
          "value": 0,
          "variable": "sym"
         },
         {
          "time": 99,
          "value": 0,
          "variable": "sym"
         },
         {
          "time": 100,
          "value": 0,
          "variable": "sym"
         },
         {
          "time": 0,
          "value": 0,
          "variable": "sev"
         },
         {
          "time": 1,
          "value": 0,
          "variable": "sev"
         },
         {
          "time": 2,
          "value": 0,
          "variable": "sev"
         },
         {
          "time": 3,
          "value": 1,
          "variable": "sev"
         },
         {
          "time": 4,
          "value": 12,
          "variable": "sev"
         },
         {
          "time": 5,
          "value": 26,
          "variable": "sev"
         },
         {
          "time": 6,
          "value": 69,
          "variable": "sev"
         },
         {
          "time": 7,
          "value": 105,
          "variable": "sev"
         },
         {
          "time": 8,
          "value": 133,
          "variable": "sev"
         },
         {
          "time": 9,
          "value": 192,
          "variable": "sev"
         },
         {
          "time": 10,
          "value": 240,
          "variable": "sev"
         },
         {
          "time": 11,
          "value": 305,
          "variable": "sev"
         },
         {
          "time": 12,
          "value": 370,
          "variable": "sev"
         },
         {
          "time": 13,
          "value": 461,
          "variable": "sev"
         },
         {
          "time": 14,
          "value": 501,
          "variable": "sev"
         },
         {
          "time": 15,
          "value": 571,
          "variable": "sev"
         },
         {
          "time": 16,
          "value": 602,
          "variable": "sev"
         },
         {
          "time": 17,
          "value": 650,
          "variable": "sev"
         },
         {
          "time": 18,
          "value": 655,
          "variable": "sev"
         },
         {
          "time": 19,
          "value": 680,
          "variable": "sev"
         },
         {
          "time": 20,
          "value": 678,
          "variable": "sev"
         },
         {
          "time": 21,
          "value": 659,
          "variable": "sev"
         },
         {
          "time": 22,
          "value": 616,
          "variable": "sev"
         },
         {
          "time": 23,
          "value": 535,
          "variable": "sev"
         },
         {
          "time": 24,
          "value": 473,
          "variable": "sev"
         },
         {
          "time": 25,
          "value": 436,
          "variable": "sev"
         },
         {
          "time": 26,
          "value": 392,
          "variable": "sev"
         },
         {
          "time": 27,
          "value": 343,
          "variable": "sev"
         },
         {
          "time": 28,
          "value": 295,
          "variable": "sev"
         },
         {
          "time": 29,
          "value": 277,
          "variable": "sev"
         },
         {
          "time": 30,
          "value": 243,
          "variable": "sev"
         },
         {
          "time": 31,
          "value": 204,
          "variable": "sev"
         },
         {
          "time": 32,
          "value": 174,
          "variable": "sev"
         },
         {
          "time": 33,
          "value": 139,
          "variable": "sev"
         },
         {
          "time": 34,
          "value": 101,
          "variable": "sev"
         },
         {
          "time": 35,
          "value": 90,
          "variable": "sev"
         },
         {
          "time": 36,
          "value": 73,
          "variable": "sev"
         },
         {
          "time": 37,
          "value": 67,
          "variable": "sev"
         },
         {
          "time": 38,
          "value": 63,
          "variable": "sev"
         },
         {
          "time": 39,
          "value": 45,
          "variable": "sev"
         },
         {
          "time": 40,
          "value": 39,
          "variable": "sev"
         },
         {
          "time": 41,
          "value": 32,
          "variable": "sev"
         },
         {
          "time": 42,
          "value": 27,
          "variable": "sev"
         },
         {
          "time": 43,
          "value": 28,
          "variable": "sev"
         },
         {
          "time": 44,
          "value": 22,
          "variable": "sev"
         },
         {
          "time": 45,
          "value": 14,
          "variable": "sev"
         },
         {
          "time": 46,
          "value": 11,
          "variable": "sev"
         },
         {
          "time": 47,
          "value": 10,
          "variable": "sev"
         },
         {
          "time": 48,
          "value": 8,
          "variable": "sev"
         },
         {
          "time": 49,
          "value": 8,
          "variable": "sev"
         },
         {
          "time": 50,
          "value": 10,
          "variable": "sev"
         },
         {
          "time": 51,
          "value": 9,
          "variable": "sev"
         },
         {
          "time": 52,
          "value": 9,
          "variable": "sev"
         },
         {
          "time": 53,
          "value": 11,
          "variable": "sev"
         },
         {
          "time": 54,
          "value": 13,
          "variable": "sev"
         },
         {
          "time": 55,
          "value": 8,
          "variable": "sev"
         },
         {
          "time": 56,
          "value": 7,
          "variable": "sev"
         },
         {
          "time": 57,
          "value": 4,
          "variable": "sev"
         },
         {
          "time": 58,
          "value": 5,
          "variable": "sev"
         },
         {
          "time": 59,
          "value": 6,
          "variable": "sev"
         },
         {
          "time": 60,
          "value": 4,
          "variable": "sev"
         },
         {
          "time": 61,
          "value": 7,
          "variable": "sev"
         },
         {
          "time": 62,
          "value": 2,
          "variable": "sev"
         },
         {
          "time": 63,
          "value": 2,
          "variable": "sev"
         },
         {
          "time": 64,
          "value": 3,
          "variable": "sev"
         },
         {
          "time": 65,
          "value": 1,
          "variable": "sev"
         },
         {
          "time": 66,
          "value": 1,
          "variable": "sev"
         },
         {
          "time": 67,
          "value": 1,
          "variable": "sev"
         },
         {
          "time": 68,
          "value": 1,
          "variable": "sev"
         },
         {
          "time": 69,
          "value": 2,
          "variable": "sev"
         },
         {
          "time": 70,
          "value": 1,
          "variable": "sev"
         },
         {
          "time": 71,
          "value": 2,
          "variable": "sev"
         },
         {
          "time": 72,
          "value": 1,
          "variable": "sev"
         },
         {
          "time": 73,
          "value": 1,
          "variable": "sev"
         },
         {
          "time": 74,
          "value": 1,
          "variable": "sev"
         },
         {
          "time": 75,
          "value": 1,
          "variable": "sev"
         },
         {
          "time": 76,
          "value": 1,
          "variable": "sev"
         },
         {
          "time": 77,
          "value": 1,
          "variable": "sev"
         },
         {
          "time": 78,
          "value": 2,
          "variable": "sev"
         },
         {
          "time": 79,
          "value": 1,
          "variable": "sev"
         },
         {
          "time": 80,
          "value": 1,
          "variable": "sev"
         },
         {
          "time": 81,
          "value": 1,
          "variable": "sev"
         },
         {
          "time": 82,
          "value": 1,
          "variable": "sev"
         },
         {
          "time": 83,
          "value": 0,
          "variable": "sev"
         },
         {
          "time": 84,
          "value": 0,
          "variable": "sev"
         },
         {
          "time": 85,
          "value": 0,
          "variable": "sev"
         },
         {
          "time": 86,
          "value": 0,
          "variable": "sev"
         },
         {
          "time": 87,
          "value": 0,
          "variable": "sev"
         },
         {
          "time": 88,
          "value": 0,
          "variable": "sev"
         },
         {
          "time": 89,
          "value": 1,
          "variable": "sev"
         },
         {
          "time": 90,
          "value": 1,
          "variable": "sev"
         },
         {
          "time": 91,
          "value": 1,
          "variable": "sev"
         },
         {
          "time": 92,
          "value": 1,
          "variable": "sev"
         },
         {
          "time": 93,
          "value": 1,
          "variable": "sev"
         },
         {
          "time": 94,
          "value": 3,
          "variable": "sev"
         },
         {
          "time": 95,
          "value": 3,
          "variable": "sev"
         },
         {
          "time": 96,
          "value": 2,
          "variable": "sev"
         },
         {
          "time": 97,
          "value": 2,
          "variable": "sev"
         },
         {
          "time": 98,
          "value": 2,
          "variable": "sev"
         },
         {
          "time": 99,
          "value": 1,
          "variable": "sev"
         },
         {
          "time": 100,
          "value": 0,
          "variable": "sev"
         }
        ]
       },
       "encoding": {
        "color": {
         "field": "value",
         "scale": {
          "scheme": "yelloworangebrown"
         },
         "type": "quantitative"
        },
        "x": {
         "field": "time",
         "type": "ordinal"
        },
        "y": {
         "field": "variable",
         "type": "nominal"
        }
       },
       "mark": "rect",
       "title": "Compartment values",
       "width": 850
      },
      "image/png": "[encoded data removed]",
      "text/plain": [
       "<VegaLite 3 object>\n",
       "\n",
       "If you see this message, it means the renderer has not been properly enabled\n",
       "for the frontend that you are using. For more information, see\n",
       "https://altair-viz.github.io/user_guide/troubleshooting.html\n"
      ]
     },
     "execution_count": 224,
     "metadata": {},
     "output_type": "execute_result"
    }
   ],
   "source": [
    "alt.Chart(\n",
    "    c_m_2,\n",
    "    title=\"Compartment Values Over Time (subset)\"\n",
    ").mark_rect().encode(\n",
    "    x='time:O',\n",
    "    y='variable:N',\n",
    "    color=alt.Color('value:Q', scale=alt.Scale(scheme='yelloworangebrown'))\n",
    ").properties(width=850)"
   ]
  },
  {
   "cell_type": "code",
   "execution_count": null,
   "metadata": {},
   "outputs": [],
   "source": []
  }
 ],
 "metadata": {
  "kernelspec": {
   "display_name": "Python 3",
   "language": "python",
   "name": "python3"
  },
  "language_info": {
   "codemirror_mode": {
    "name": "ipython",
    "version": 3
   },
   "file_extension": ".py",
   "mimetype": "text/x-python",
   "name": "python",
   "nbconvert_exporter": "python",
   "pygments_lexer": "ipython3",
   "version": "3.7.7"
  }
 },
 "nbformat": 4,
 "nbformat_minor": 4
}
